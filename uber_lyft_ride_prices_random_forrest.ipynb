{
  "nbformat": 4,
  "nbformat_minor": 0,
  "metadata": {
    "colab": {
      "provenance": [],
      "include_colab_link": true
    },
    "kernelspec": {
      "name": "python3",
      "display_name": "Python 3"
    },
    "accelerator": "GPU"
  },
  "cells": [
    {
      "cell_type": "markdown",
      "metadata": {
        "id": "view-in-github",
        "colab_type": "text"
      },
      "source": [
        "<a href=\"https://colab.research.google.com/github/aditpurohit/Rideshare-Price-Prediction/blob/main/uber_lyft_ride_prices_random_forrest.ipynb\" target=\"_parent\"><img src=\"https://colab.research.google.com/assets/colab-badge.svg\" alt=\"Open In Colab\"/></a>"
      ]
    },
    {
      "cell_type": "code",
      "metadata": {
        "id": "D8MbqoPg8FNG",
        "trusted": true
      },
      "source": [
        "import pandas as pd\n",
        "!pip install -U -q PyDrive\n",
        "from pydrive.auth import GoogleAuth\n",
        "from pydrive.drive import GoogleDrive\n",
        "from google.colab import auth\n",
        "from oauth2client.client import GoogleCredentials\n",
        "\n",
        "# Authenticate and create the PyDrive client.\n",
        "auth.authenticate_user()\n",
        "gauth = GoogleAuth()\n",
        "gauth.credentials = GoogleCredentials.get_application_default()\n",
        "drive = GoogleDrive(gauth)"
      ],
      "execution_count": null,
      "outputs": []
    },
    {
      "cell_type": "code",
      "metadata": {
        "id": "1h3rqsZUfUTm"
      },
      "source": [],
      "execution_count": null,
      "outputs": []
    },
    {
      "cell_type": "code",
      "metadata": {
        "id": "T9l7cAvReB23",
        "outputId": "de9558da-3034-4a7f-c25b-eb226b453238",
        "colab": {
          "base_uri": "https://localhost:8080/",
          "height": 289
        }
      },
      "source": [
        "link=\"https://drive.google.com/open?id=15_wSdhmwsiYtKSs77Q1Tm2X5dLcgTJUU\"\n",
        "_,id=link.split(\"=\")\n",
        "downloaded = drive.CreateFile({'id':id})\n",
        "downloaded.GetContentFile('cab_rides.csv')\n",
        "cab_df = pd.read_csv('cab_rides.csv')\n",
        "cab_df.tail(5)\n"
      ],
      "execution_count": null,
      "outputs": [
        {
          "output_type": "execute_result",
          "data": {
            "text/html": [
              "<div>\n",
              "<style scoped>\n",
              "    .dataframe tbody tr th:only-of-type {\n",
              "        vertical-align: middle;\n",
              "    }\n",
              "\n",
              "    .dataframe tbody tr th {\n",
              "        vertical-align: top;\n",
              "    }\n",
              "\n",
              "    .dataframe thead th {\n",
              "        text-align: right;\n",
              "    }\n",
              "</style>\n",
              "<table border=\"1\" class=\"dataframe\">\n",
              "  <thead>\n",
              "    <tr style=\"text-align: right;\">\n",
              "      <th></th>\n",
              "      <th>distance</th>\n",
              "      <th>cab_type</th>\n",
              "      <th>time_stamp</th>\n",
              "      <th>destination</th>\n",
              "      <th>source</th>\n",
              "      <th>price</th>\n",
              "      <th>surge_multiplier</th>\n",
              "      <th>id</th>\n",
              "      <th>product_id</th>\n",
              "      <th>name</th>\n",
              "    </tr>\n",
              "  </thead>\n",
              "  <tbody>\n",
              "    <tr>\n",
              "      <th>693066</th>\n",
              "      <td>1.0</td>\n",
              "      <td>Uber</td>\n",
              "      <td>1543708385534</td>\n",
              "      <td>North End</td>\n",
              "      <td>West End</td>\n",
              "      <td>13.0</td>\n",
              "      <td>1.0</td>\n",
              "      <td>616d3611-1820-450a-9845-a9ff304a4842</td>\n",
              "      <td>6f72dfc5-27f1-42e8-84db-ccc7a75f6969</td>\n",
              "      <td>UberXL</td>\n",
              "    </tr>\n",
              "    <tr>\n",
              "      <th>693067</th>\n",
              "      <td>1.0</td>\n",
              "      <td>Uber</td>\n",
              "      <td>1543708385534</td>\n",
              "      <td>North End</td>\n",
              "      <td>West End</td>\n",
              "      <td>9.5</td>\n",
              "      <td>1.0</td>\n",
              "      <td>633a3fc3-1f86-4b9e-9d48-2b7132112341</td>\n",
              "      <td>55c66225-fbe7-4fd5-9072-eab1ece5e23e</td>\n",
              "      <td>UberX</td>\n",
              "    </tr>\n",
              "    <tr>\n",
              "      <th>693068</th>\n",
              "      <td>1.0</td>\n",
              "      <td>Uber</td>\n",
              "      <td>1543708385534</td>\n",
              "      <td>North End</td>\n",
              "      <td>West End</td>\n",
              "      <td>NaN</td>\n",
              "      <td>1.0</td>\n",
              "      <td>64d451d0-639f-47a4-9b7c-6fd92fbd264f</td>\n",
              "      <td>8cf7e821-f0d3-49c6-8eba-e679c0ebcf6a</td>\n",
              "      <td>Taxi</td>\n",
              "    </tr>\n",
              "    <tr>\n",
              "      <th>693069</th>\n",
              "      <td>1.0</td>\n",
              "      <td>Uber</td>\n",
              "      <td>1543708385534</td>\n",
              "      <td>North End</td>\n",
              "      <td>West End</td>\n",
              "      <td>27.0</td>\n",
              "      <td>1.0</td>\n",
              "      <td>727e5f07-a96b-4ad1-a2c7-9abc3ad55b4e</td>\n",
              "      <td>6d318bcc-22a3-4af6-bddd-b409bfce1546</td>\n",
              "      <td>Black SUV</td>\n",
              "    </tr>\n",
              "    <tr>\n",
              "      <th>693070</th>\n",
              "      <td>1.0</td>\n",
              "      <td>Uber</td>\n",
              "      <td>1543708385534</td>\n",
              "      <td>North End</td>\n",
              "      <td>West End</td>\n",
              "      <td>10.0</td>\n",
              "      <td>1.0</td>\n",
              "      <td>e7fdc087-fe86-40a5-a3c3-3b2a8badcbda</td>\n",
              "      <td>997acbb5-e102-41e1-b155-9df7de0a73f2</td>\n",
              "      <td>UberPool</td>\n",
              "    </tr>\n",
              "  </tbody>\n",
              "</table>\n",
              "</div>"
            ],
            "text/plain": [
              "        distance cab_type  ...                            product_id       name\n",
              "693066       1.0     Uber  ...  6f72dfc5-27f1-42e8-84db-ccc7a75f6969     UberXL\n",
              "693067       1.0     Uber  ...  55c66225-fbe7-4fd5-9072-eab1ece5e23e      UberX\n",
              "693068       1.0     Uber  ...  8cf7e821-f0d3-49c6-8eba-e679c0ebcf6a       Taxi\n",
              "693069       1.0     Uber  ...  6d318bcc-22a3-4af6-bddd-b409bfce1546  Black SUV\n",
              "693070       1.0     Uber  ...  997acbb5-e102-41e1-b155-9df7de0a73f2   UberPool\n",
              "\n",
              "[5 rows x 10 columns]"
            ]
          },
          "metadata": {
            "tags": []
          },
          "execution_count": 149
        }
      ]
    },
    {
      "cell_type": "code",
      "metadata": {
        "id": "kXDbdsLr91ft",
        "trusted": true,
        "outputId": "6204799d-7ea1-4335-9099-78ea40009136",
        "colab": {
          "base_uri": "https://localhost:8080/",
          "height": 204
        }
      },
      "source": [
        "id=\"151jOgmg1CI5Ucu5kz1TssecIOdxvTBhI\"\n",
        "\n",
        "downloaded = drive.CreateFile({'id':id})\n",
        "downloaded.GetContentFile('weather.csv')\n",
        "weather_df = pd.read_csv('weather.csv')\n",
        "weather_df.tail(5)"
      ],
      "execution_count": null,
      "outputs": [
        {
          "output_type": "execute_result",
          "data": {
            "text/html": [
              "<div>\n",
              "<style scoped>\n",
              "    .dataframe tbody tr th:only-of-type {\n",
              "        vertical-align: middle;\n",
              "    }\n",
              "\n",
              "    .dataframe tbody tr th {\n",
              "        vertical-align: top;\n",
              "    }\n",
              "\n",
              "    .dataframe thead th {\n",
              "        text-align: right;\n",
              "    }\n",
              "</style>\n",
              "<table border=\"1\" class=\"dataframe\">\n",
              "  <thead>\n",
              "    <tr style=\"text-align: right;\">\n",
              "      <th></th>\n",
              "      <th>temp</th>\n",
              "      <th>location</th>\n",
              "      <th>clouds</th>\n",
              "      <th>pressure</th>\n",
              "      <th>rain</th>\n",
              "      <th>time_stamp</th>\n",
              "      <th>humidity</th>\n",
              "      <th>wind</th>\n",
              "    </tr>\n",
              "  </thead>\n",
              "  <tbody>\n",
              "    <tr>\n",
              "      <th>6271</th>\n",
              "      <td>44.72</td>\n",
              "      <td>North Station</td>\n",
              "      <td>0.89</td>\n",
              "      <td>1000.69</td>\n",
              "      <td>NaN</td>\n",
              "      <td>1543819974</td>\n",
              "      <td>0.96</td>\n",
              "      <td>1.52</td>\n",
              "    </tr>\n",
              "    <tr>\n",
              "      <th>6272</th>\n",
              "      <td>44.85</td>\n",
              "      <td>Northeastern University</td>\n",
              "      <td>0.88</td>\n",
              "      <td>1000.71</td>\n",
              "      <td>NaN</td>\n",
              "      <td>1543819974</td>\n",
              "      <td>0.96</td>\n",
              "      <td>1.54</td>\n",
              "    </tr>\n",
              "    <tr>\n",
              "      <th>6273</th>\n",
              "      <td>44.82</td>\n",
              "      <td>South Station</td>\n",
              "      <td>0.89</td>\n",
              "      <td>1000.70</td>\n",
              "      <td>NaN</td>\n",
              "      <td>1543819974</td>\n",
              "      <td>0.96</td>\n",
              "      <td>1.54</td>\n",
              "    </tr>\n",
              "    <tr>\n",
              "      <th>6274</th>\n",
              "      <td>44.78</td>\n",
              "      <td>Theatre District</td>\n",
              "      <td>0.89</td>\n",
              "      <td>1000.70</td>\n",
              "      <td>NaN</td>\n",
              "      <td>1543819974</td>\n",
              "      <td>0.96</td>\n",
              "      <td>1.54</td>\n",
              "    </tr>\n",
              "    <tr>\n",
              "      <th>6275</th>\n",
              "      <td>44.69</td>\n",
              "      <td>West End</td>\n",
              "      <td>0.89</td>\n",
              "      <td>1000.70</td>\n",
              "      <td>NaN</td>\n",
              "      <td>1543819974</td>\n",
              "      <td>0.96</td>\n",
              "      <td>1.52</td>\n",
              "    </tr>\n",
              "  </tbody>\n",
              "</table>\n",
              "</div>"
            ],
            "text/plain": [
              "       temp                 location  clouds  ...  time_stamp  humidity  wind\n",
              "6271  44.72            North Station    0.89  ...  1543819974      0.96  1.52\n",
              "6272  44.85  Northeastern University    0.88  ...  1543819974      0.96  1.54\n",
              "6273  44.82            South Station    0.89  ...  1543819974      0.96  1.54\n",
              "6274  44.78         Theatre District    0.89  ...  1543819974      0.96  1.54\n",
              "6275  44.69                 West End    0.89  ...  1543819974      0.96  1.52\n",
              "\n",
              "[5 rows x 8 columns]"
            ]
          },
          "metadata": {
            "tags": []
          },
          "execution_count": 3
        }
      ]
    },
    {
      "cell_type": "code",
      "metadata": {
        "trusted": true,
        "id": "KysSG5r3pv6n",
        "outputId": "1a4ad05d-fa68-417e-a935-e77a1cff8f37",
        "colab": {
          "base_uri": "https://localhost:8080/",
          "height": 204
        }
      },
      "source": [
        "weather_df.head()"
      ],
      "execution_count": null,
      "outputs": [
        {
          "output_type": "execute_result",
          "data": {
            "text/html": [
              "<div>\n",
              "<style scoped>\n",
              "    .dataframe tbody tr th:only-of-type {\n",
              "        vertical-align: middle;\n",
              "    }\n",
              "\n",
              "    .dataframe tbody tr th {\n",
              "        vertical-align: top;\n",
              "    }\n",
              "\n",
              "    .dataframe thead th {\n",
              "        text-align: right;\n",
              "    }\n",
              "</style>\n",
              "<table border=\"1\" class=\"dataframe\">\n",
              "  <thead>\n",
              "    <tr style=\"text-align: right;\">\n",
              "      <th></th>\n",
              "      <th>temp</th>\n",
              "      <th>location</th>\n",
              "      <th>clouds</th>\n",
              "      <th>pressure</th>\n",
              "      <th>rain</th>\n",
              "      <th>time_stamp</th>\n",
              "      <th>humidity</th>\n",
              "      <th>wind</th>\n",
              "    </tr>\n",
              "  </thead>\n",
              "  <tbody>\n",
              "    <tr>\n",
              "      <th>0</th>\n",
              "      <td>42.42</td>\n",
              "      <td>Back Bay</td>\n",
              "      <td>1.0</td>\n",
              "      <td>1012.14</td>\n",
              "      <td>0.1228</td>\n",
              "      <td>1545003901</td>\n",
              "      <td>0.77</td>\n",
              "      <td>11.25</td>\n",
              "    </tr>\n",
              "    <tr>\n",
              "      <th>1</th>\n",
              "      <td>42.43</td>\n",
              "      <td>Beacon Hill</td>\n",
              "      <td>1.0</td>\n",
              "      <td>1012.15</td>\n",
              "      <td>0.1846</td>\n",
              "      <td>1545003901</td>\n",
              "      <td>0.76</td>\n",
              "      <td>11.32</td>\n",
              "    </tr>\n",
              "    <tr>\n",
              "      <th>2</th>\n",
              "      <td>42.50</td>\n",
              "      <td>Boston University</td>\n",
              "      <td>1.0</td>\n",
              "      <td>1012.15</td>\n",
              "      <td>0.1089</td>\n",
              "      <td>1545003901</td>\n",
              "      <td>0.76</td>\n",
              "      <td>11.07</td>\n",
              "    </tr>\n",
              "    <tr>\n",
              "      <th>3</th>\n",
              "      <td>42.11</td>\n",
              "      <td>Fenway</td>\n",
              "      <td>1.0</td>\n",
              "      <td>1012.13</td>\n",
              "      <td>0.0969</td>\n",
              "      <td>1545003901</td>\n",
              "      <td>0.77</td>\n",
              "      <td>11.09</td>\n",
              "    </tr>\n",
              "    <tr>\n",
              "      <th>4</th>\n",
              "      <td>43.13</td>\n",
              "      <td>Financial District</td>\n",
              "      <td>1.0</td>\n",
              "      <td>1012.14</td>\n",
              "      <td>0.1786</td>\n",
              "      <td>1545003901</td>\n",
              "      <td>0.75</td>\n",
              "      <td>11.49</td>\n",
              "    </tr>\n",
              "  </tbody>\n",
              "</table>\n",
              "</div>"
            ],
            "text/plain": [
              "    temp            location  clouds  ...  time_stamp  humidity   wind\n",
              "0  42.42            Back Bay     1.0  ...  1545003901      0.77  11.25\n",
              "1  42.43         Beacon Hill     1.0  ...  1545003901      0.76  11.32\n",
              "2  42.50   Boston University     1.0  ...  1545003901      0.76  11.07\n",
              "3  42.11              Fenway     1.0  ...  1545003901      0.77  11.09\n",
              "4  43.13  Financial District     1.0  ...  1545003901      0.75  11.49\n",
              "\n",
              "[5 rows x 8 columns]"
            ]
          },
          "metadata": {
            "tags": []
          },
          "execution_count": 9
        }
      ]
    },
    {
      "cell_type": "code",
      "metadata": {
        "id": "Hthonxgy92dv",
        "trusted": true,
        "outputId": "160bb5ba-4fd6-4613-e3f2-f5e5875a904b",
        "colab": {
          "base_uri": "https://localhost:8080/",
          "height": 289
        }
      },
      "source": [
        "cab_df['date_time'] = pd.to_datetime(cab_df['time_stamp']/1000, unit='s')\n",
        "weather_df['date_time'] = pd.to_datetime(weather_df['time_stamp'], unit='s')\n",
        "cab_df.head()"
      ],
      "execution_count": null,
      "outputs": [
        {
          "output_type": "execute_result",
          "data": {
            "text/html": [
              "<div>\n",
              "<style scoped>\n",
              "    .dataframe tbody tr th:only-of-type {\n",
              "        vertical-align: middle;\n",
              "    }\n",
              "\n",
              "    .dataframe tbody tr th {\n",
              "        vertical-align: top;\n",
              "    }\n",
              "\n",
              "    .dataframe thead th {\n",
              "        text-align: right;\n",
              "    }\n",
              "</style>\n",
              "<table border=\"1\" class=\"dataframe\">\n",
              "  <thead>\n",
              "    <tr style=\"text-align: right;\">\n",
              "      <th></th>\n",
              "      <th>distance</th>\n",
              "      <th>cab_type</th>\n",
              "      <th>time_stamp</th>\n",
              "      <th>destination</th>\n",
              "      <th>source</th>\n",
              "      <th>price</th>\n",
              "      <th>surge_multiplier</th>\n",
              "      <th>id</th>\n",
              "      <th>product_id</th>\n",
              "      <th>name</th>\n",
              "      <th>date_time</th>\n",
              "    </tr>\n",
              "  </thead>\n",
              "  <tbody>\n",
              "    <tr>\n",
              "      <th>0</th>\n",
              "      <td>0.44</td>\n",
              "      <td>Lyft</td>\n",
              "      <td>1544952607890</td>\n",
              "      <td>North Station</td>\n",
              "      <td>Haymarket Square</td>\n",
              "      <td>5.0</td>\n",
              "      <td>1.0</td>\n",
              "      <td>424553bb-7174-41ea-aeb4-fe06d4f4b9d7</td>\n",
              "      <td>lyft_line</td>\n",
              "      <td>Shared</td>\n",
              "      <td>2018-12-16 09:30:07.890000105</td>\n",
              "    </tr>\n",
              "    <tr>\n",
              "      <th>1</th>\n",
              "      <td>0.44</td>\n",
              "      <td>Lyft</td>\n",
              "      <td>1543284023677</td>\n",
              "      <td>North Station</td>\n",
              "      <td>Haymarket Square</td>\n",
              "      <td>11.0</td>\n",
              "      <td>1.0</td>\n",
              "      <td>4bd23055-6827-41c6-b23b-3c491f24e74d</td>\n",
              "      <td>lyft_premier</td>\n",
              "      <td>Lux</td>\n",
              "      <td>2018-11-27 02:00:23.677000046</td>\n",
              "    </tr>\n",
              "    <tr>\n",
              "      <th>2</th>\n",
              "      <td>0.44</td>\n",
              "      <td>Lyft</td>\n",
              "      <td>1543366822198</td>\n",
              "      <td>North Station</td>\n",
              "      <td>Haymarket Square</td>\n",
              "      <td>7.0</td>\n",
              "      <td>1.0</td>\n",
              "      <td>981a3613-77af-4620-a42a-0c0866077d1e</td>\n",
              "      <td>lyft</td>\n",
              "      <td>Lyft</td>\n",
              "      <td>2018-11-28 01:00:22.197999954</td>\n",
              "    </tr>\n",
              "    <tr>\n",
              "      <th>3</th>\n",
              "      <td>0.44</td>\n",
              "      <td>Lyft</td>\n",
              "      <td>1543553582749</td>\n",
              "      <td>North Station</td>\n",
              "      <td>Haymarket Square</td>\n",
              "      <td>26.0</td>\n",
              "      <td>1.0</td>\n",
              "      <td>c2d88af2-d278-4bfd-a8d0-29ca77cc5512</td>\n",
              "      <td>lyft_luxsuv</td>\n",
              "      <td>Lux Black XL</td>\n",
              "      <td>2018-11-30 04:53:02.749000072</td>\n",
              "    </tr>\n",
              "    <tr>\n",
              "      <th>4</th>\n",
              "      <td>0.44</td>\n",
              "      <td>Lyft</td>\n",
              "      <td>1543463360223</td>\n",
              "      <td>North Station</td>\n",
              "      <td>Haymarket Square</td>\n",
              "      <td>9.0</td>\n",
              "      <td>1.0</td>\n",
              "      <td>e0126e1f-8ca9-4f2e-82b3-50505a09db9a</td>\n",
              "      <td>lyft_plus</td>\n",
              "      <td>Lyft XL</td>\n",
              "      <td>2018-11-29 03:49:20.223000050</td>\n",
              "    </tr>\n",
              "  </tbody>\n",
              "</table>\n",
              "</div>"
            ],
            "text/plain": [
              "   distance cab_type  ...          name                     date_time\n",
              "0      0.44     Lyft  ...        Shared 2018-12-16 09:30:07.890000105\n",
              "1      0.44     Lyft  ...           Lux 2018-11-27 02:00:23.677000046\n",
              "2      0.44     Lyft  ...          Lyft 2018-11-28 01:00:22.197999954\n",
              "3      0.44     Lyft  ...  Lux Black XL 2018-11-30 04:53:02.749000072\n",
              "4      0.44     Lyft  ...       Lyft XL 2018-11-29 03:49:20.223000050\n",
              "\n",
              "[5 rows x 11 columns]"
            ]
          },
          "metadata": {
            "tags": []
          },
          "execution_count": 150
        }
      ]
    },
    {
      "cell_type": "code",
      "metadata": {
        "id": "EgcaMMdbitJK"
      },
      "source": [],
      "execution_count": null,
      "outputs": []
    },
    {
      "cell_type": "code",
      "metadata": {
        "id": "yVA22Tow93tS",
        "trusted": true
      },
      "source": [
        "#merge the datasets to refelect same time for a location\n",
        "cab_df['merge_date'] = cab_df.source.astype(str) +\" - \"+ cab_df.date_time.dt.date.astype(\"str\") +\" - \"+ cab_df.date_time.dt.hour.astype(\"str\")\n",
        "weather_df['merge_date'] = weather_df.location.astype(str) +\" - \"+ weather_df.date_time.dt.date.astype(\"str\") +\" - \"+ weather_df.date_time.dt.hour.astype(\"str\")"
      ],
      "execution_count": null,
      "outputs": []
    },
    {
      "cell_type": "code",
      "metadata": {
        "id": "KqZ4F2Ip-Ddm",
        "trusted": true
      },
      "source": [
        "weather_df.index = weather_df['merge_date']"
      ],
      "execution_count": null,
      "outputs": []
    },
    {
      "cell_type": "code",
      "metadata": {
        "id": "sB9F2_-q-D4j",
        "trusted": true,
        "outputId": "f0d43342-718b-4e34-dce5-31247d8477cd",
        "colab": {
          "base_uri": "https://localhost:8080/",
          "height": 374
        }
      },
      "source": [
        "cab_df.head()"
      ],
      "execution_count": null,
      "outputs": [
        {
          "output_type": "execute_result",
          "data": {
            "text/html": [
              "<div>\n",
              "<style scoped>\n",
              "    .dataframe tbody tr th:only-of-type {\n",
              "        vertical-align: middle;\n",
              "    }\n",
              "\n",
              "    .dataframe tbody tr th {\n",
              "        vertical-align: top;\n",
              "    }\n",
              "\n",
              "    .dataframe thead th {\n",
              "        text-align: right;\n",
              "    }\n",
              "</style>\n",
              "<table border=\"1\" class=\"dataframe\">\n",
              "  <thead>\n",
              "    <tr style=\"text-align: right;\">\n",
              "      <th></th>\n",
              "      <th>distance</th>\n",
              "      <th>cab_type</th>\n",
              "      <th>time_stamp</th>\n",
              "      <th>destination</th>\n",
              "      <th>source</th>\n",
              "      <th>price</th>\n",
              "      <th>surge_multiplier</th>\n",
              "      <th>id</th>\n",
              "      <th>product_id</th>\n",
              "      <th>name</th>\n",
              "      <th>date_time</th>\n",
              "      <th>merge_date</th>\n",
              "    </tr>\n",
              "  </thead>\n",
              "  <tbody>\n",
              "    <tr>\n",
              "      <th>0</th>\n",
              "      <td>0.44</td>\n",
              "      <td>Lyft</td>\n",
              "      <td>1544952607890</td>\n",
              "      <td>North Station</td>\n",
              "      <td>Haymarket Square</td>\n",
              "      <td>5.0</td>\n",
              "      <td>1.0</td>\n",
              "      <td>424553bb-7174-41ea-aeb4-fe06d4f4b9d7</td>\n",
              "      <td>lyft_line</td>\n",
              "      <td>Shared</td>\n",
              "      <td>2018-12-16 09:30:07.890000105</td>\n",
              "      <td>Haymarket Square - 2018-12-16 - 9</td>\n",
              "    </tr>\n",
              "    <tr>\n",
              "      <th>1</th>\n",
              "      <td>0.44</td>\n",
              "      <td>Lyft</td>\n",
              "      <td>1543284023677</td>\n",
              "      <td>North Station</td>\n",
              "      <td>Haymarket Square</td>\n",
              "      <td>11.0</td>\n",
              "      <td>1.0</td>\n",
              "      <td>4bd23055-6827-41c6-b23b-3c491f24e74d</td>\n",
              "      <td>lyft_premier</td>\n",
              "      <td>Lux</td>\n",
              "      <td>2018-11-27 02:00:23.677000046</td>\n",
              "      <td>Haymarket Square - 2018-11-27 - 2</td>\n",
              "    </tr>\n",
              "    <tr>\n",
              "      <th>2</th>\n",
              "      <td>0.44</td>\n",
              "      <td>Lyft</td>\n",
              "      <td>1543366822198</td>\n",
              "      <td>North Station</td>\n",
              "      <td>Haymarket Square</td>\n",
              "      <td>7.0</td>\n",
              "      <td>1.0</td>\n",
              "      <td>981a3613-77af-4620-a42a-0c0866077d1e</td>\n",
              "      <td>lyft</td>\n",
              "      <td>Lyft</td>\n",
              "      <td>2018-11-28 01:00:22.197999954</td>\n",
              "      <td>Haymarket Square - 2018-11-28 - 1</td>\n",
              "    </tr>\n",
              "    <tr>\n",
              "      <th>3</th>\n",
              "      <td>0.44</td>\n",
              "      <td>Lyft</td>\n",
              "      <td>1543553582749</td>\n",
              "      <td>North Station</td>\n",
              "      <td>Haymarket Square</td>\n",
              "      <td>26.0</td>\n",
              "      <td>1.0</td>\n",
              "      <td>c2d88af2-d278-4bfd-a8d0-29ca77cc5512</td>\n",
              "      <td>lyft_luxsuv</td>\n",
              "      <td>Lux Black XL</td>\n",
              "      <td>2018-11-30 04:53:02.749000072</td>\n",
              "      <td>Haymarket Square - 2018-11-30 - 4</td>\n",
              "    </tr>\n",
              "    <tr>\n",
              "      <th>4</th>\n",
              "      <td>0.44</td>\n",
              "      <td>Lyft</td>\n",
              "      <td>1543463360223</td>\n",
              "      <td>North Station</td>\n",
              "      <td>Haymarket Square</td>\n",
              "      <td>9.0</td>\n",
              "      <td>1.0</td>\n",
              "      <td>e0126e1f-8ca9-4f2e-82b3-50505a09db9a</td>\n",
              "      <td>lyft_plus</td>\n",
              "      <td>Lyft XL</td>\n",
              "      <td>2018-11-29 03:49:20.223000050</td>\n",
              "      <td>Haymarket Square - 2018-11-29 - 3</td>\n",
              "    </tr>\n",
              "  </tbody>\n",
              "</table>\n",
              "</div>"
            ],
            "text/plain": [
              "   distance  ...                         merge_date\n",
              "0      0.44  ...  Haymarket Square - 2018-12-16 - 9\n",
              "1      0.44  ...  Haymarket Square - 2018-11-27 - 2\n",
              "2      0.44  ...  Haymarket Square - 2018-11-28 - 1\n",
              "3      0.44  ...  Haymarket Square - 2018-11-30 - 4\n",
              "4      0.44  ...  Haymarket Square - 2018-11-29 - 3\n",
              "\n",
              "[5 rows x 12 columns]"
            ]
          },
          "metadata": {
            "tags": []
          },
          "execution_count": 7
        }
      ]
    },
    {
      "cell_type": "code",
      "metadata": {
        "id": "sd0VrZr3-E_8",
        "trusted": true
      },
      "source": [
        "merged_df = cab_df.join(weather_df,on=['merge_date'],rsuffix ='_w')"
      ],
      "execution_count": null,
      "outputs": []
    },
    {
      "cell_type": "code",
      "metadata": {
        "id": "7wSBr30X-HRZ",
        "trusted": true,
        "outputId": "a18a173f-f9c2-43d6-bd7f-dffa77c53782",
        "colab": {
          "base_uri": "https://localhost:8080/",
          "height": 698
        }
      },
      "source": [
        "cab_df['rain'].fillna(0,inplace=True)"
      ],
      "execution_count": null,
      "outputs": [
        {
          "output_type": "error",
          "ename": "KeyError",
          "evalue": "ignored",
          "traceback": [
            "\u001b[0;31m---------------------------------------------------------------------------\u001b[0m",
            "\u001b[0;31mKeyError\u001b[0m                                  Traceback (most recent call last)",
            "\u001b[0;32m/usr/local/lib/python3.6/dist-packages/pandas/core/indexes/base.py\u001b[0m in \u001b[0;36mget_loc\u001b[0;34m(self, key, method, tolerance)\u001b[0m\n\u001b[1;32m   2645\u001b[0m             \u001b[0;32mtry\u001b[0m\u001b[0;34m:\u001b[0m\u001b[0;34m\u001b[0m\u001b[0;34m\u001b[0m\u001b[0m\n\u001b[0;32m-> 2646\u001b[0;31m                 \u001b[0;32mreturn\u001b[0m \u001b[0mself\u001b[0m\u001b[0;34m.\u001b[0m\u001b[0m_engine\u001b[0m\u001b[0;34m.\u001b[0m\u001b[0mget_loc\u001b[0m\u001b[0;34m(\u001b[0m\u001b[0mkey\u001b[0m\u001b[0;34m)\u001b[0m\u001b[0;34m\u001b[0m\u001b[0;34m\u001b[0m\u001b[0m\n\u001b[0m\u001b[1;32m   2647\u001b[0m             \u001b[0;32mexcept\u001b[0m \u001b[0mKeyError\u001b[0m\u001b[0;34m:\u001b[0m\u001b[0;34m\u001b[0m\u001b[0;34m\u001b[0m\u001b[0m\n",
            "\u001b[0;32mpandas/_libs/index.pyx\u001b[0m in \u001b[0;36mpandas._libs.index.IndexEngine.get_loc\u001b[0;34m()\u001b[0m\n",
            "\u001b[0;32mpandas/_libs/index.pyx\u001b[0m in \u001b[0;36mpandas._libs.index.IndexEngine.get_loc\u001b[0;34m()\u001b[0m\n",
            "\u001b[0;32mpandas/_libs/hashtable_class_helper.pxi\u001b[0m in \u001b[0;36mpandas._libs.hashtable.PyObjectHashTable.get_item\u001b[0;34m()\u001b[0m\n",
            "\u001b[0;32mpandas/_libs/hashtable_class_helper.pxi\u001b[0m in \u001b[0;36mpandas._libs.hashtable.PyObjectHashTable.get_item\u001b[0;34m()\u001b[0m\n",
            "\u001b[0;31mKeyError\u001b[0m: 'rain'",
            "\nDuring handling of the above exception, another exception occurred:\n",
            "\u001b[0;31mKeyError\u001b[0m                                  Traceback (most recent call last)",
            "\u001b[0;32m<ipython-input-151-2e7859103b06>\u001b[0m in \u001b[0;36m<module>\u001b[0;34m()\u001b[0m\n\u001b[0;32m----> 1\u001b[0;31m \u001b[0mcab_df\u001b[0m\u001b[0;34m[\u001b[0m\u001b[0;34m'rain'\u001b[0m\u001b[0;34m]\u001b[0m\u001b[0;34m.\u001b[0m\u001b[0mfillna\u001b[0m\u001b[0;34m(\u001b[0m\u001b[0;36m0\u001b[0m\u001b[0;34m,\u001b[0m\u001b[0minplace\u001b[0m\u001b[0;34m=\u001b[0m\u001b[0;32mTrue\u001b[0m\u001b[0;34m)\u001b[0m\u001b[0;34m\u001b[0m\u001b[0;34m\u001b[0m\u001b[0m\n\u001b[0m",
            "\u001b[0;32m/usr/local/lib/python3.6/dist-packages/pandas/core/frame.py\u001b[0m in \u001b[0;36m__getitem__\u001b[0;34m(self, key)\u001b[0m\n\u001b[1;32m   2798\u001b[0m             \u001b[0;32mif\u001b[0m \u001b[0mself\u001b[0m\u001b[0;34m.\u001b[0m\u001b[0mcolumns\u001b[0m\u001b[0;34m.\u001b[0m\u001b[0mnlevels\u001b[0m \u001b[0;34m>\u001b[0m \u001b[0;36m1\u001b[0m\u001b[0;34m:\u001b[0m\u001b[0;34m\u001b[0m\u001b[0;34m\u001b[0m\u001b[0m\n\u001b[1;32m   2799\u001b[0m                 \u001b[0;32mreturn\u001b[0m \u001b[0mself\u001b[0m\u001b[0;34m.\u001b[0m\u001b[0m_getitem_multilevel\u001b[0m\u001b[0;34m(\u001b[0m\u001b[0mkey\u001b[0m\u001b[0;34m)\u001b[0m\u001b[0;34m\u001b[0m\u001b[0;34m\u001b[0m\u001b[0m\n\u001b[0;32m-> 2800\u001b[0;31m             \u001b[0mindexer\u001b[0m \u001b[0;34m=\u001b[0m \u001b[0mself\u001b[0m\u001b[0;34m.\u001b[0m\u001b[0mcolumns\u001b[0m\u001b[0;34m.\u001b[0m\u001b[0mget_loc\u001b[0m\u001b[0;34m(\u001b[0m\u001b[0mkey\u001b[0m\u001b[0;34m)\u001b[0m\u001b[0;34m\u001b[0m\u001b[0;34m\u001b[0m\u001b[0m\n\u001b[0m\u001b[1;32m   2801\u001b[0m             \u001b[0;32mif\u001b[0m \u001b[0mis_integer\u001b[0m\u001b[0;34m(\u001b[0m\u001b[0mindexer\u001b[0m\u001b[0;34m)\u001b[0m\u001b[0;34m:\u001b[0m\u001b[0;34m\u001b[0m\u001b[0;34m\u001b[0m\u001b[0m\n\u001b[1;32m   2802\u001b[0m                 \u001b[0mindexer\u001b[0m \u001b[0;34m=\u001b[0m \u001b[0;34m[\u001b[0m\u001b[0mindexer\u001b[0m\u001b[0;34m]\u001b[0m\u001b[0;34m\u001b[0m\u001b[0;34m\u001b[0m\u001b[0m\n",
            "\u001b[0;32m/usr/local/lib/python3.6/dist-packages/pandas/core/indexes/base.py\u001b[0m in \u001b[0;36mget_loc\u001b[0;34m(self, key, method, tolerance)\u001b[0m\n\u001b[1;32m   2646\u001b[0m                 \u001b[0;32mreturn\u001b[0m \u001b[0mself\u001b[0m\u001b[0;34m.\u001b[0m\u001b[0m_engine\u001b[0m\u001b[0;34m.\u001b[0m\u001b[0mget_loc\u001b[0m\u001b[0;34m(\u001b[0m\u001b[0mkey\u001b[0m\u001b[0;34m)\u001b[0m\u001b[0;34m\u001b[0m\u001b[0;34m\u001b[0m\u001b[0m\n\u001b[1;32m   2647\u001b[0m             \u001b[0;32mexcept\u001b[0m \u001b[0mKeyError\u001b[0m\u001b[0;34m:\u001b[0m\u001b[0;34m\u001b[0m\u001b[0;34m\u001b[0m\u001b[0m\n\u001b[0;32m-> 2648\u001b[0;31m                 \u001b[0;32mreturn\u001b[0m \u001b[0mself\u001b[0m\u001b[0;34m.\u001b[0m\u001b[0m_engine\u001b[0m\u001b[0;34m.\u001b[0m\u001b[0mget_loc\u001b[0m\u001b[0;34m(\u001b[0m\u001b[0mself\u001b[0m\u001b[0;34m.\u001b[0m\u001b[0m_maybe_cast_indexer\u001b[0m\u001b[0;34m(\u001b[0m\u001b[0mkey\u001b[0m\u001b[0;34m)\u001b[0m\u001b[0;34m)\u001b[0m\u001b[0;34m\u001b[0m\u001b[0;34m\u001b[0m\u001b[0m\n\u001b[0m\u001b[1;32m   2649\u001b[0m         \u001b[0mindexer\u001b[0m \u001b[0;34m=\u001b[0m \u001b[0mself\u001b[0m\u001b[0;34m.\u001b[0m\u001b[0mget_indexer\u001b[0m\u001b[0;34m(\u001b[0m\u001b[0;34m[\u001b[0m\u001b[0mkey\u001b[0m\u001b[0;34m]\u001b[0m\u001b[0;34m,\u001b[0m \u001b[0mmethod\u001b[0m\u001b[0;34m=\u001b[0m\u001b[0mmethod\u001b[0m\u001b[0;34m,\u001b[0m \u001b[0mtolerance\u001b[0m\u001b[0;34m=\u001b[0m\u001b[0mtolerance\u001b[0m\u001b[0;34m)\u001b[0m\u001b[0;34m\u001b[0m\u001b[0;34m\u001b[0m\u001b[0m\n\u001b[1;32m   2650\u001b[0m         \u001b[0;32mif\u001b[0m \u001b[0mindexer\u001b[0m\u001b[0;34m.\u001b[0m\u001b[0mndim\u001b[0m \u001b[0;34m>\u001b[0m \u001b[0;36m1\u001b[0m \u001b[0;32mor\u001b[0m \u001b[0mindexer\u001b[0m\u001b[0;34m.\u001b[0m\u001b[0msize\u001b[0m \u001b[0;34m>\u001b[0m \u001b[0;36m1\u001b[0m\u001b[0;34m:\u001b[0m\u001b[0;34m\u001b[0m\u001b[0;34m\u001b[0m\u001b[0m\n",
            "\u001b[0;32mpandas/_libs/index.pyx\u001b[0m in \u001b[0;36mpandas._libs.index.IndexEngine.get_loc\u001b[0;34m()\u001b[0m\n",
            "\u001b[0;32mpandas/_libs/index.pyx\u001b[0m in \u001b[0;36mpandas._libs.index.IndexEngine.get_loc\u001b[0;34m()\u001b[0m\n",
            "\u001b[0;32mpandas/_libs/hashtable_class_helper.pxi\u001b[0m in \u001b[0;36mpandas._libs.hashtable.PyObjectHashTable.get_item\u001b[0;34m()\u001b[0m\n",
            "\u001b[0;32mpandas/_libs/hashtable_class_helper.pxi\u001b[0m in \u001b[0;36mpandas._libs.hashtable.PyObjectHashTable.get_item\u001b[0;34m()\u001b[0m\n",
            "\u001b[0;31mKeyError\u001b[0m: 'rain'"
          ]
        }
      ]
    },
    {
      "cell_type": "code",
      "metadata": {
        "id": "Fu53tQiC-ISF",
        "trusted": true
      },
      "source": [
        "merged_df = merged_df[pd.notnull(merged_df['date_time_w'])]"
      ],
      "execution_count": null,
      "outputs": []
    },
    {
      "cell_type": "code",
      "metadata": {
        "id": "nXpNbtSe-LX4",
        "trusted": true
      },
      "source": [
        "cab_df = cab_df[pd.notnull(cab_df['price'])]"
      ],
      "execution_count": null,
      "outputs": []
    },
    {
      "cell_type": "code",
      "metadata": {
        "id": "uMH-PD_k-MhS",
        "trusted": true,
        "outputId": "ac460b26-92a0-4184-c3ad-3a6f81c2a2ef",
        "colab": {
          "base_uri": "https://localhost:8080/",
          "height": 119
        }
      },
      "source": [
        "cab_df['day'] = cab_df.date_time.dt.dayofweek"
      ],
      "execution_count": null,
      "outputs": [
        {
          "output_type": "stream",
          "text": [
            "/usr/local/lib/python3.6/dist-packages/ipykernel_launcher.py:1: SettingWithCopyWarning: \n",
            "A value is trying to be set on a copy of a slice from a DataFrame.\n",
            "Try using .loc[row_indexer,col_indexer] = value instead\n",
            "\n",
            "See the caveats in the documentation: https://pandas.pydata.org/pandas-docs/stable/user_guide/indexing.html#returning-a-view-versus-a-copy\n",
            "  \"\"\"Entry point for launching an IPython kernel.\n"
          ],
          "name": "stderr"
        }
      ]
    },
    {
      "cell_type": "code",
      "metadata": {
        "id": "AF86jDYF-5Nr",
        "trusted": true,
        "outputId": "34e82db8-4259-400d-e9d8-e3dc142e28bf",
        "colab": {
          "base_uri": "https://localhost:8080/",
          "height": 119
        }
      },
      "source": [
        "cab_df['hour'] = cab_df.date_time.dt.hour"
      ],
      "execution_count": null,
      "outputs": [
        {
          "output_type": "stream",
          "text": [
            "/usr/local/lib/python3.6/dist-packages/ipykernel_launcher.py:1: SettingWithCopyWarning: \n",
            "A value is trying to be set on a copy of a slice from a DataFrame.\n",
            "Try using .loc[row_indexer,col_indexer] = value instead\n",
            "\n",
            "See the caveats in the documentation: https://pandas.pydata.org/pandas-docs/stable/user_guide/indexing.html#returning-a-view-versus-a-copy\n",
            "  \"\"\"Entry point for launching an IPython kernel.\n"
          ],
          "name": "stderr"
        }
      ]
    },
    {
      "cell_type": "code",
      "metadata": {
        "id": "KnyZFNSN-bLC",
        "trusted": true,
        "outputId": "694e55ba-528f-4f09-f3df-6c216ba65304",
        "colab": {
          "base_uri": "https://localhost:8080/",
          "height": 170
        }
      },
      "source": [
        "merged_df['day'].describe()"
      ],
      "execution_count": null,
      "outputs": [
        {
          "output_type": "execute_result",
          "data": {
            "text/plain": [
              "count    1.164996e+06\n",
              "mean     2.388427e+00\n",
              "std      1.743907e+00\n",
              "min      0.000000e+00\n",
              "25%      1.000000e+00\n",
              "50%      2.000000e+00\n",
              "75%      3.000000e+00\n",
              "max      6.000000e+00\n",
              "Name: day, dtype: float64"
            ]
          },
          "metadata": {
            "tags": []
          },
          "execution_count": 14
        }
      ]
    },
    {
      "cell_type": "code",
      "metadata": {
        "id": "aosPlqKZ-c93",
        "trusted": true,
        "outputId": "da92cc57-9b51-426a-e0b1-85bfb60b4bfb",
        "colab": {
          "base_uri": "https://localhost:8080/",
          "height": 119
        }
      },
      "source": [
        "merged_df.columns"
      ],
      "execution_count": null,
      "outputs": [
        {
          "output_type": "execute_result",
          "data": {
            "text/plain": [
              "Index(['distance', 'cab_type', 'time_stamp', 'destination', 'source', 'price',\n",
              "       'surge_multiplier', 'id', 'product_id', 'name', 'date_time',\n",
              "       'merge_date', 'temp', 'location', 'clouds', 'pressure', 'rain',\n",
              "       'time_stamp_w', 'humidity', 'wind', 'date_time_w', 'merge_date_w',\n",
              "       'day', 'hour'],\n",
              "      dtype='object')"
            ]
          },
          "metadata": {
            "tags": []
          },
          "execution_count": 15
        }
      ]
    },
    {
      "cell_type": "code",
      "metadata": {
        "id": "DVvty2sN_3kR",
        "trusted": true,
        "outputId": "8127e51c-b272-4313-86bc-d37f73547214",
        "colab": {
          "base_uri": "https://localhost:8080/",
          "height": 442
        }
      },
      "source": [
        "merged_df.count()"
      ],
      "execution_count": null,
      "outputs": [
        {
          "output_type": "execute_result",
          "data": {
            "text/plain": [
              "distance            1164996\n",
              "cab_type            1164996\n",
              "time_stamp          1164996\n",
              "destination         1164996\n",
              "source              1164996\n",
              "price               1164996\n",
              "surge_multiplier    1164996\n",
              "id                  1164996\n",
              "product_id          1164996\n",
              "name                1164996\n",
              "date_time           1164996\n",
              "merge_date          1164996\n",
              "temp                1164996\n",
              "location            1164996\n",
              "clouds              1164996\n",
              "pressure            1164996\n",
              "rain                1164996\n",
              "time_stamp_w        1164996\n",
              "humidity            1164996\n",
              "wind                1164996\n",
              "date_time_w         1164996\n",
              "merge_date_w        1164996\n",
              "day                 1164996\n",
              "hour                1164996\n",
              "dtype: int64"
            ]
          },
          "metadata": {
            "tags": []
          },
          "execution_count": 16
        }
      ]
    },
    {
      "cell_type": "code",
      "metadata": {
        "id": "qYde3J9z-0pF",
        "trusted": true
      },
      "source": [
        "X = merged_df[merged_df.product_id=='lyft_line'][['day','distance','hour','temp','clouds', 'pressure','humidity', 'wind', 'rain']]"
      ],
      "execution_count": null,
      "outputs": []
    },
    {
      "cell_type": "code",
      "metadata": {
        "id": "1lFCZYGoAez5",
        "trusted": true,
        "outputId": "84142fec-f3fb-4146-be30-82f544ce4213",
        "colab": {
          "base_uri": "https://localhost:8080/",
          "height": 187
        }
      },
      "source": [
        "X.count()"
      ],
      "execution_count": null,
      "outputs": [
        {
          "output_type": "execute_result",
          "data": {
            "text/plain": [
              "day         93762\n",
              "distance    93762\n",
              "hour        93762\n",
              "temp        93762\n",
              "clouds      93762\n",
              "pressure    93762\n",
              "humidity    93762\n",
              "wind        93762\n",
              "rain        93762\n",
              "dtype: int64"
            ]
          },
          "metadata": {
            "tags": []
          },
          "execution_count": 18
        }
      ]
    },
    {
      "cell_type": "code",
      "metadata": {
        "id": "3jwsqfWn-NkZ",
        "trusted": true
      },
      "source": [
        "y = merged_df[merged_df.product_id=='lyft_line']['price']"
      ],
      "execution_count": null,
      "outputs": []
    },
    {
      "cell_type": "code",
      "metadata": {
        "id": "uYyi_4aUBHlT",
        "trusted": true,
        "outputId": "9e4f76ab-6cc1-49e2-a0bf-03f688f650e7",
        "colab": {
          "base_uri": "https://localhost:8080/",
          "height": 34
        }
      },
      "source": [
        "y.count()"
      ],
      "execution_count": null,
      "outputs": [
        {
          "output_type": "execute_result",
          "data": {
            "text/plain": [
              "93762"
            ]
          },
          "metadata": {
            "tags": []
          },
          "execution_count": 20
        }
      ]
    },
    {
      "cell_type": "code",
      "metadata": {
        "id": "dHkdZAZP-2Kz",
        "trusted": true
      },
      "source": [
        "X.reset_index(inplace=True)\n",
        "X = X.drop(columns=['index'])"
      ],
      "execution_count": null,
      "outputs": []
    },
    {
      "cell_type": "code",
      "metadata": {
        "id": "XuXmWXBZ-9lf",
        "trusted": true,
        "outputId": "9b36c4c5-150d-447c-819d-f6bd29aad001",
        "colab": {
          "base_uri": "https://localhost:8080/",
          "height": 204
        }
      },
      "source": [
        "X.head()"
      ],
      "execution_count": null,
      "outputs": [
        {
          "output_type": "execute_result",
          "data": {
            "text/html": [
              "<div>\n",
              "<style scoped>\n",
              "    .dataframe tbody tr th:only-of-type {\n",
              "        vertical-align: middle;\n",
              "    }\n",
              "\n",
              "    .dataframe tbody tr th {\n",
              "        vertical-align: top;\n",
              "    }\n",
              "\n",
              "    .dataframe thead th {\n",
              "        text-align: right;\n",
              "    }\n",
              "</style>\n",
              "<table border=\"1\" class=\"dataframe\">\n",
              "  <thead>\n",
              "    <tr style=\"text-align: right;\">\n",
              "      <th></th>\n",
              "      <th>day</th>\n",
              "      <th>distance</th>\n",
              "      <th>hour</th>\n",
              "      <th>temp</th>\n",
              "      <th>clouds</th>\n",
              "      <th>pressure</th>\n",
              "      <th>humidity</th>\n",
              "      <th>wind</th>\n",
              "      <th>rain</th>\n",
              "    </tr>\n",
              "  </thead>\n",
              "  <tbody>\n",
              "    <tr>\n",
              "      <th>0</th>\n",
              "      <td>6</td>\n",
              "      <td>0.44</td>\n",
              "      <td>9</td>\n",
              "      <td>38.46</td>\n",
              "      <td>0.29</td>\n",
              "      <td>1022.25</td>\n",
              "      <td>0.76</td>\n",
              "      <td>7.68</td>\n",
              "      <td>0.0000</td>\n",
              "    </tr>\n",
              "    <tr>\n",
              "      <th>1</th>\n",
              "      <td>0</td>\n",
              "      <td>1.08</td>\n",
              "      <td>6</td>\n",
              "      <td>44.85</td>\n",
              "      <td>0.89</td>\n",
              "      <td>1000.70</td>\n",
              "      <td>0.95</td>\n",
              "      <td>1.53</td>\n",
              "      <td>0.0000</td>\n",
              "    </tr>\n",
              "    <tr>\n",
              "      <th>2</th>\n",
              "      <td>4</td>\n",
              "      <td>0.72</td>\n",
              "      <td>2</td>\n",
              "      <td>36.31</td>\n",
              "      <td>0.00</td>\n",
              "      <td>1012.37</td>\n",
              "      <td>0.68</td>\n",
              "      <td>6.85</td>\n",
              "      <td>0.0000</td>\n",
              "    </tr>\n",
              "    <tr>\n",
              "      <th>3</th>\n",
              "      <td>1</td>\n",
              "      <td>3.24</td>\n",
              "      <td>3</td>\n",
              "      <td>44.18</td>\n",
              "      <td>0.99</td>\n",
              "      <td>1001.50</td>\n",
              "      <td>0.89</td>\n",
              "      <td>12.40</td>\n",
              "      <td>0.2420</td>\n",
              "    </tr>\n",
              "    <tr>\n",
              "      <th>4</th>\n",
              "      <td>1</td>\n",
              "      <td>3.24</td>\n",
              "      <td>3</td>\n",
              "      <td>44.25</td>\n",
              "      <td>1.00</td>\n",
              "      <td>1000.81</td>\n",
              "      <td>0.90</td>\n",
              "      <td>13.70</td>\n",
              "      <td>0.1617</td>\n",
              "    </tr>\n",
              "  </tbody>\n",
              "</table>\n",
              "</div>"
            ],
            "text/plain": [
              "   day  distance  hour   temp  clouds  pressure  humidity   wind    rain\n",
              "0    6      0.44     9  38.46    0.29   1022.25      0.76   7.68  0.0000\n",
              "1    0      1.08     6  44.85    0.89   1000.70      0.95   1.53  0.0000\n",
              "2    4      0.72     2  36.31    0.00   1012.37      0.68   6.85  0.0000\n",
              "3    1      3.24     3  44.18    0.99   1001.50      0.89  12.40  0.2420\n",
              "4    1      3.24     3  44.25    1.00   1000.81      0.90  13.70  0.1617"
            ]
          },
          "metadata": {
            "tags": []
          },
          "execution_count": 22
        }
      ]
    },
    {
      "cell_type": "code",
      "metadata": {
        "id": "BLewUmR_-_Wy",
        "trusted": true
      },
      "source": [
        "features = pd.get_dummies(X)"
      ],
      "execution_count": null,
      "outputs": []
    },
    {
      "cell_type": "code",
      "metadata": {
        "id": "QtG02FhT_BXo",
        "trusted": true
      },
      "source": [
        "features.columns"
      ],
      "execution_count": null,
      "outputs": []
    },
    {
      "cell_type": "code",
      "metadata": {
        "id": "MjK4mBw8_DF8",
        "trusted": true
      },
      "source": [
        "# Use numpy to convert to arrays\n",
        "import numpy as np\n",
        "# Labels are the values we want to predict\n",
        "labels = np.array(y)\n",
        "\n",
        "# Saving feature names for later use\n",
        "feature_list = list(features.columns)\n",
        "# Convert to numpy array\n",
        "features = np.array(features)"
      ],
      "execution_count": null,
      "outputs": []
    },
    {
      "cell_type": "code",
      "metadata": {
        "id": "BbxSbiey_Eov",
        "trusted": true
      },
      "source": [
        "# Using Skicit-learn to split data into training and testing sets\n",
        "from sklearn.model_selection import train_test_split\n",
        "# Split the data into training and testing sets\n",
        "train_features, test_features, train_labels, test_labels = train_test_split(features, labels, test_size = 0.25, random_state = 42)"
      ],
      "execution_count": null,
      "outputs": []
    },
    {
      "cell_type": "code",
      "metadata": {
        "id": "qmTQGdxy_GWl",
        "trusted": true
      },
      "source": [
        "print('Training Features Shape:', train_features.shape)\n",
        "print('Training Labels Shape:', train_labels.shape)\n",
        "print('Testing Features Shape:', test_features.shape)\n",
        "print('Testing Labels Shape:', test_labels.shape)"
      ],
      "execution_count": null,
      "outputs": []
    },
    {
      "cell_type": "code",
      "metadata": {
        "id": "opgu_Zoe_HnG",
        "trusted": true
      },
      "source": [
        "# Import the model we are using\n",
        "from sklearn.ensemble import RandomForestRegressor,RandomForestClassifier\n",
        "# Instantiate model with 1000 decision trees\n",
        "rf = RandomForestRegressor(n_estimators = 1000, random_state = 42)\n",
        "# Train the model on training data\n",
        "rf.fit(train_features, train_labels);"
      ],
      "execution_count": null,
      "outputs": []
    },
    {
      "cell_type": "code",
      "metadata": {
        "id": "cMjHk4YL_JDw",
        "trusted": true
      },
      "source": [
        "# Use the forest's predict method on the test data\n",
        "predictions = rf.predict(test_features)\n",
        "# Calculate the absolute errors\n",
        "errors = abs(predictions - test_labels)\n",
        "# Print out the mean absolute error (mae)\n",
        "print('Mean Absolute Error:', round(np.mean(errors), 2), 'degrees.')"
      ],
      "execution_count": null,
      "outputs": []
    },
    {
      "cell_type": "markdown",
      "metadata": {
        "id": "PFHEkaUFUVRb"
      },
      "source": [
        "### Prediction Accuracy for Prices"
      ]
    },
    {
      "cell_type": "code",
      "metadata": {
        "id": "n9HKWBPgBziQ",
        "trusted": true
      },
      "source": [
        "# Calculate mean absolute percentage error (MAPE)\n",
        "mape = 100 * (errors / test_labels)\n",
        "# Calculate and display accuracy\n",
        "accuracy = 100 - np.mean(mape)\n",
        "print('Accuracy:', round(accuracy, 2), '%.')"
      ],
      "execution_count": null,
      "outputs": []
    },
    {
      "cell_type": "code",
      "metadata": {
        "id": "WPIXvny8B4ct",
        "trusted": true
      },
      "source": [
        "# Get numerical feature importances\n",
        "importances = list(rf.feature_importances_)\n",
        "# List of tuples with variable and importance\n",
        "feature_importances = [(feature, round(importance, 2)) for feature, importance in zip(feature_list, importances)]\n",
        "# Sort the feature importances by most important first\n",
        "feature_importances = sorted(feature_importances, key = lambda x: x[1], reverse = True)\n",
        "# Print out the feature and importances\n",
        "[print('Variable: {:20} Importance: {}'.format(*pair)) for pair in feature_importances];"
      ],
      "execution_count": null,
      "outputs": []
    },
    {
      "cell_type": "markdown",
      "metadata": {
        "id": "d5und_QlgOxk"
      },
      "source": [
        "### Lets see the prediction for surge_multiplier"
      ]
    },
    {
      "cell_type": "code",
      "metadata": {
        "id": "xvmvwjEneG7N",
        "trusted": true
      },
      "source": [
        "merged_df_surge = merged_df[merged_df.surge_multiplier < 3]\n",
        "X = merged_df_surge[['day','hour','temp','clouds', 'pressure','humidity', 'wind', 'rain']]"
      ],
      "execution_count": null,
      "outputs": []
    },
    {
      "cell_type": "code",
      "metadata": {
        "id": "H284-adBjt4f",
        "trusted": true
      },
      "source": [
        "X.count()"
      ],
      "execution_count": null,
      "outputs": []
    },
    {
      "cell_type": "code",
      "metadata": {
        "id": "ljsFXQqDgorv",
        "trusted": true
      },
      "source": [
        "features = pd.get_dummies(X)"
      ],
      "execution_count": null,
      "outputs": []
    },
    {
      "cell_type": "code",
      "metadata": {
        "id": "C_15vOgmeG3v",
        "trusted": true
      },
      "source": [
        "\n",
        "y = merged_df_surge['surge_multiplier']\n",
        "from sklearn import preprocessing\n",
        "le = preprocessing.LabelEncoder()\n",
        "\n",
        "#ignoring multiplier of 3 as there are only 2 values in our dataset\n",
        "le.fit([1,1.25,1.5,1.75,2.,2.25,2.5])\n",
        "y = le.transform(y)"
      ],
      "execution_count": null,
      "outputs": []
    },
    {
      "cell_type": "code",
      "metadata": {
        "id": "Yti45m0deG02",
        "trusted": true
      },
      "source": [
        "# Use numpy to convert to arrays\n",
        "import numpy as np\n",
        "# Labels are the values we want to predict\n",
        "labels = np.array(y)\n",
        "\n",
        "# Saving feature names for later use\n",
        "feature_list = list(X.columns)\n",
        "# Convert to numpy array\n",
        "features = np.array(features)"
      ],
      "execution_count": null,
      "outputs": []
    },
    {
      "cell_type": "code",
      "metadata": {
        "id": "BGjWra2seGyU",
        "trusted": true
      },
      "source": [
        "# Using Skicit-learn to split data into training and testing sets\n",
        "from sklearn.model_selection import train_test_split\n",
        "# Split the data into training and testing sets\n",
        "train_features, test_features, train_labels, test_labels = train_test_split(features, labels, test_size = 0.25, random_state = 42)"
      ],
      "execution_count": null,
      "outputs": []
    },
    {
      "cell_type": "markdown",
      "metadata": {
        "id": "uBG25ZAdVQVY"
      },
      "source": [
        "*The dataset is imbalanced when it comes to surge multipliers. More than 90% of the data has a surge multiplier of 1.\n",
        "We use SMOTE for blancing the training data*"
      ]
    },
    {
      "cell_type": "code",
      "metadata": {
        "id": "X1MSRcUouzsl",
        "trusted": true
      },
      "source": [
        "from imblearn.over_sampling import SMOTE\n",
        "sm = SMOTE(random_state=42)\n",
        "train_features, train_labels = sm.fit_resample(train_features, train_labels)"
      ],
      "execution_count": null,
      "outputs": []
    },
    {
      "cell_type": "code",
      "metadata": {
        "id": "dCUXVORoeGvQ",
        "trusted": true
      },
      "source": [
        "from sklearn.ensemble import RandomForestRegressor,RandomForestClassifier\n",
        "rf = RandomForestClassifier(n_jobs=-1, random_state = 42,class_weight=\"balanced\")\n",
        "# Train the model on training data\n",
        "rf.fit(train_features, train_labels);"
      ],
      "execution_count": null,
      "outputs": []
    },
    {
      "cell_type": "code",
      "metadata": {
        "id": "JokhNr-leGrm",
        "trusted": true
      },
      "source": [
        "# Use the forest's predict method on the test data\n",
        "predictions = rf.predict(test_features)\n",
        "# Calculate the absolute errors\n",
        "errors = abs(predictions - test_labels)\n",
        "# Print out the mean absolute error (mae)\n",
        "print('Mean Absolute Error:', round(np.mean(errors), 2), 'degrees.')"
      ],
      "execution_count": null,
      "outputs": []
    },
    {
      "cell_type": "markdown",
      "metadata": {
        "id": "rMrzipSJVh_k"
      },
      "source": [
        "Calculating the weighted precision score(taking imbalance of the dataset in account)"
      ]
    },
    {
      "cell_type": "code",
      "metadata": {
        "id": "05oG5NvfeGNK",
        "trusted": true
      },
      "source": [
        "from sklearn.metrics import precision_score, recall_score\n",
        "precision_score(test_labels, predictions, average=\"weighted\")\n"
      ],
      "execution_count": null,
      "outputs": []
    },
    {
      "cell_type": "code",
      "metadata": {
        "id": "Il1fDcpK8Cb1",
        "trusted": true
      },
      "source": [
        "recall_score(test_labels, predictions, average=\"micro\")"
      ],
      "execution_count": null,
      "outputs": []
    },
    {
      "cell_type": "markdown",
      "metadata": {
        "id": "tGLmJgkKVvDV"
      },
      "source": [
        "#### Confusion Matrix for the Surge Multiplier prediction"
      ]
    },
    {
      "cell_type": "code",
      "metadata": {
        "id": "mDPecCHUEL5B",
        "trusted": true
      },
      "source": [
        "# Create confusion matrix\n",
        "pd.crosstab(le.inverse_transform(test_labels), le.inverse_transform(predictions),rownames=['Actual'],colnames=['Predicted'])"
      ],
      "execution_count": null,
      "outputs": []
    },
    {
      "cell_type": "code",
      "metadata": {
        "id": "EWhTEgNiqcEF",
        "trusted": true
      },
      "source": [
        "# Get numerical feature importances\n",
        "importances = list(rf.feature_importances_)\n",
        "# List of tuples with variable and importance\n",
        "feature_importances = [(feature, round(importance, 2)) for feature, importance in zip(feature_list, importances)]\n",
        "# Sort the feature importances by most important first\n",
        "feature_importances = sorted(feature_importances, key = lambda x: x[1], reverse = True)\n",
        "# Print out the feature and importances\n",
        "[print('Variable: {:20} Importance: {}'.format(*pair)) for pair in feature_importances];"
      ],
      "execution_count": null,
      "outputs": []
    },
    {
      "cell_type": "code",
      "metadata": {
        "id": "W4-fgOdiGZKL",
        "trusted": true
      },
      "source": [
        "from sklearn.metrics import accuracy_score"
      ],
      "execution_count": null,
      "outputs": []
    },
    {
      "cell_type": "markdown",
      "metadata": {
        "id": "6mnTQM6KV3Ws"
      },
      "source": [
        "#### Accuracy of the Classifier"
      ]
    },
    {
      "cell_type": "code",
      "metadata": {
        "id": "TG5afXlZLQ9Y",
        "trusted": true
      },
      "source": [
        "accuracy_score(test_labels, predictions)\n"
      ],
      "execution_count": null,
      "outputs": []
    },
    {
      "cell_type": "code",
      "metadata": {
        "id": "JzhBFvCFmwyk"
      },
      "source": [
        "merged_df = cab_df.copy()"
      ],
      "execution_count": null,
      "outputs": []
    },
    {
      "cell_type": "code",
      "metadata": {
        "id": "P3So7SAWotJ-",
        "trusted": true,
        "outputId": "fcbe7de5-1913-4ec3-a620-1242ca61899c",
        "colab": {
          "base_uri": "https://localhost:8080/",
          "height": 810
        }
      },
      "source": [
        "merged_df['date'] = merged_df[\"date_time\"].dt.date\n",
        "merged_df"
      ],
      "execution_count": null,
      "outputs": [
        {
          "output_type": "execute_result",
          "data": {
            "text/html": [
              "<div>\n",
              "<style scoped>\n",
              "    .dataframe tbody tr th:only-of-type {\n",
              "        vertical-align: middle;\n",
              "    }\n",
              "\n",
              "    .dataframe tbody tr th {\n",
              "        vertical-align: top;\n",
              "    }\n",
              "\n",
              "    .dataframe thead th {\n",
              "        text-align: right;\n",
              "    }\n",
              "</style>\n",
              "<table border=\"1\" class=\"dataframe\">\n",
              "  <thead>\n",
              "    <tr style=\"text-align: right;\">\n",
              "      <th></th>\n",
              "      <th>distance</th>\n",
              "      <th>cab_type</th>\n",
              "      <th>time_stamp</th>\n",
              "      <th>destination</th>\n",
              "      <th>source</th>\n",
              "      <th>price</th>\n",
              "      <th>surge_multiplier</th>\n",
              "      <th>id</th>\n",
              "      <th>product_id</th>\n",
              "      <th>name</th>\n",
              "      <th>date_time</th>\n",
              "      <th>day</th>\n",
              "      <th>hour</th>\n",
              "      <th>date</th>\n",
              "    </tr>\n",
              "  </thead>\n",
              "  <tbody>\n",
              "    <tr>\n",
              "      <th>0</th>\n",
              "      <td>0.44</td>\n",
              "      <td>Lyft</td>\n",
              "      <td>1544952607890</td>\n",
              "      <td>North Station</td>\n",
              "      <td>Haymarket Square</td>\n",
              "      <td>5.0</td>\n",
              "      <td>1.0</td>\n",
              "      <td>424553bb-7174-41ea-aeb4-fe06d4f4b9d7</td>\n",
              "      <td>lyft_line</td>\n",
              "      <td>Shared</td>\n",
              "      <td>2018-12-16 09:30:07.890000105</td>\n",
              "      <td>6</td>\n",
              "      <td>9</td>\n",
              "      <td>2018-12-16</td>\n",
              "    </tr>\n",
              "    <tr>\n",
              "      <th>1</th>\n",
              "      <td>0.44</td>\n",
              "      <td>Lyft</td>\n",
              "      <td>1543284023677</td>\n",
              "      <td>North Station</td>\n",
              "      <td>Haymarket Square</td>\n",
              "      <td>11.0</td>\n",
              "      <td>1.0</td>\n",
              "      <td>4bd23055-6827-41c6-b23b-3c491f24e74d</td>\n",
              "      <td>lyft_premier</td>\n",
              "      <td>Lux</td>\n",
              "      <td>2018-11-27 02:00:23.677000046</td>\n",
              "      <td>1</td>\n",
              "      <td>2</td>\n",
              "      <td>2018-11-27</td>\n",
              "    </tr>\n",
              "    <tr>\n",
              "      <th>2</th>\n",
              "      <td>0.44</td>\n",
              "      <td>Lyft</td>\n",
              "      <td>1543366822198</td>\n",
              "      <td>North Station</td>\n",
              "      <td>Haymarket Square</td>\n",
              "      <td>7.0</td>\n",
              "      <td>1.0</td>\n",
              "      <td>981a3613-77af-4620-a42a-0c0866077d1e</td>\n",
              "      <td>lyft</td>\n",
              "      <td>Lyft</td>\n",
              "      <td>2018-11-28 01:00:22.197999954</td>\n",
              "      <td>2</td>\n",
              "      <td>1</td>\n",
              "      <td>2018-11-28</td>\n",
              "    </tr>\n",
              "    <tr>\n",
              "      <th>3</th>\n",
              "      <td>0.44</td>\n",
              "      <td>Lyft</td>\n",
              "      <td>1543553582749</td>\n",
              "      <td>North Station</td>\n",
              "      <td>Haymarket Square</td>\n",
              "      <td>26.0</td>\n",
              "      <td>1.0</td>\n",
              "      <td>c2d88af2-d278-4bfd-a8d0-29ca77cc5512</td>\n",
              "      <td>lyft_luxsuv</td>\n",
              "      <td>Lux Black XL</td>\n",
              "      <td>2018-11-30 04:53:02.749000072</td>\n",
              "      <td>4</td>\n",
              "      <td>4</td>\n",
              "      <td>2018-11-30</td>\n",
              "    </tr>\n",
              "    <tr>\n",
              "      <th>4</th>\n",
              "      <td>0.44</td>\n",
              "      <td>Lyft</td>\n",
              "      <td>1543463360223</td>\n",
              "      <td>North Station</td>\n",
              "      <td>Haymarket Square</td>\n",
              "      <td>9.0</td>\n",
              "      <td>1.0</td>\n",
              "      <td>e0126e1f-8ca9-4f2e-82b3-50505a09db9a</td>\n",
              "      <td>lyft_plus</td>\n",
              "      <td>Lyft XL</td>\n",
              "      <td>2018-11-29 03:49:20.223000050</td>\n",
              "      <td>3</td>\n",
              "      <td>3</td>\n",
              "      <td>2018-11-29</td>\n",
              "    </tr>\n",
              "    <tr>\n",
              "      <th>...</th>\n",
              "      <td>...</td>\n",
              "      <td>...</td>\n",
              "      <td>...</td>\n",
              "      <td>...</td>\n",
              "      <td>...</td>\n",
              "      <td>...</td>\n",
              "      <td>...</td>\n",
              "      <td>...</td>\n",
              "      <td>...</td>\n",
              "      <td>...</td>\n",
              "      <td>...</td>\n",
              "      <td>...</td>\n",
              "      <td>...</td>\n",
              "      <td>...</td>\n",
              "    </tr>\n",
              "    <tr>\n",
              "      <th>693065</th>\n",
              "      <td>1.00</td>\n",
              "      <td>Uber</td>\n",
              "      <td>1543708385534</td>\n",
              "      <td>North End</td>\n",
              "      <td>West End</td>\n",
              "      <td>9.5</td>\n",
              "      <td>1.0</td>\n",
              "      <td>353e6566-b272-479e-a9c6-98bd6cb23f25</td>\n",
              "      <td>9a0e7b09-b92b-4c41-9779-2ad22b4d779d</td>\n",
              "      <td>WAV</td>\n",
              "      <td>2018-12-01 23:53:05.533999919</td>\n",
              "      <td>5</td>\n",
              "      <td>23</td>\n",
              "      <td>2018-12-01</td>\n",
              "    </tr>\n",
              "    <tr>\n",
              "      <th>693066</th>\n",
              "      <td>1.00</td>\n",
              "      <td>Uber</td>\n",
              "      <td>1543708385534</td>\n",
              "      <td>North End</td>\n",
              "      <td>West End</td>\n",
              "      <td>13.0</td>\n",
              "      <td>1.0</td>\n",
              "      <td>616d3611-1820-450a-9845-a9ff304a4842</td>\n",
              "      <td>6f72dfc5-27f1-42e8-84db-ccc7a75f6969</td>\n",
              "      <td>UberXL</td>\n",
              "      <td>2018-12-01 23:53:05.533999919</td>\n",
              "      <td>5</td>\n",
              "      <td>23</td>\n",
              "      <td>2018-12-01</td>\n",
              "    </tr>\n",
              "    <tr>\n",
              "      <th>693067</th>\n",
              "      <td>1.00</td>\n",
              "      <td>Uber</td>\n",
              "      <td>1543708385534</td>\n",
              "      <td>North End</td>\n",
              "      <td>West End</td>\n",
              "      <td>9.5</td>\n",
              "      <td>1.0</td>\n",
              "      <td>633a3fc3-1f86-4b9e-9d48-2b7132112341</td>\n",
              "      <td>55c66225-fbe7-4fd5-9072-eab1ece5e23e</td>\n",
              "      <td>UberX</td>\n",
              "      <td>2018-12-01 23:53:05.533999919</td>\n",
              "      <td>5</td>\n",
              "      <td>23</td>\n",
              "      <td>2018-12-01</td>\n",
              "    </tr>\n",
              "    <tr>\n",
              "      <th>693069</th>\n",
              "      <td>1.00</td>\n",
              "      <td>Uber</td>\n",
              "      <td>1543708385534</td>\n",
              "      <td>North End</td>\n",
              "      <td>West End</td>\n",
              "      <td>27.0</td>\n",
              "      <td>1.0</td>\n",
              "      <td>727e5f07-a96b-4ad1-a2c7-9abc3ad55b4e</td>\n",
              "      <td>6d318bcc-22a3-4af6-bddd-b409bfce1546</td>\n",
              "      <td>Black SUV</td>\n",
              "      <td>2018-12-01 23:53:05.533999919</td>\n",
              "      <td>5</td>\n",
              "      <td>23</td>\n",
              "      <td>2018-12-01</td>\n",
              "    </tr>\n",
              "    <tr>\n",
              "      <th>693070</th>\n",
              "      <td>1.00</td>\n",
              "      <td>Uber</td>\n",
              "      <td>1543708385534</td>\n",
              "      <td>North End</td>\n",
              "      <td>West End</td>\n",
              "      <td>10.0</td>\n",
              "      <td>1.0</td>\n",
              "      <td>e7fdc087-fe86-40a5-a3c3-3b2a8badcbda</td>\n",
              "      <td>997acbb5-e102-41e1-b155-9df7de0a73f2</td>\n",
              "      <td>UberPool</td>\n",
              "      <td>2018-12-01 23:53:05.533999919</td>\n",
              "      <td>5</td>\n",
              "      <td>23</td>\n",
              "      <td>2018-12-01</td>\n",
              "    </tr>\n",
              "  </tbody>\n",
              "</table>\n",
              "<p>637976 rows × 14 columns</p>\n",
              "</div>"
            ],
            "text/plain": [
              "        distance cab_type     time_stamp  ... day hour        date\n",
              "0           0.44     Lyft  1544952607890  ...   6    9  2018-12-16\n",
              "1           0.44     Lyft  1543284023677  ...   1    2  2018-11-27\n",
              "2           0.44     Lyft  1543366822198  ...   2    1  2018-11-28\n",
              "3           0.44     Lyft  1543553582749  ...   4    4  2018-11-30\n",
              "4           0.44     Lyft  1543463360223  ...   3    3  2018-11-29\n",
              "...          ...      ...            ...  ...  ..  ...         ...\n",
              "693065      1.00     Uber  1543708385534  ...   5   23  2018-12-01\n",
              "693066      1.00     Uber  1543708385534  ...   5   23  2018-12-01\n",
              "693067      1.00     Uber  1543708385534  ...   5   23  2018-12-01\n",
              "693069      1.00     Uber  1543708385534  ...   5   23  2018-12-01\n",
              "693070      1.00     Uber  1543708385534  ...   5   23  2018-12-01\n",
              "\n",
              "[637976 rows x 14 columns]"
            ]
          },
          "metadata": {
            "tags": []
          },
          "execution_count": 156
        }
      ]
    },
    {
      "cell_type": "code",
      "metadata": {
        "id": "BdoduNgHTo5h"
      },
      "source": [
        "UB_df = merged_df[merged_df[\"name\"]==\"UberX\"]"
      ],
      "execution_count": null,
      "outputs": []
    },
    {
      "cell_type": "code",
      "metadata": {
        "id": "wXcc58LQUWxl"
      },
      "source": [],
      "execution_count": null,
      "outputs": []
    },
    {
      "cell_type": "code",
      "metadata": {
        "id": "UczzupCAfdHi",
        "outputId": "2ef5bf82-85c4-42d7-fbf0-1d503c200ca9",
        "colab": {
          "base_uri": "https://localhost:8080/",
          "height": 558
        }
      },
      "source": [
        "import seaborn as sn\n",
        "import matplotlib.pyplot as plt\n",
        "corrMatrix = BU_uber_8to10.corr()\n",
        "plt.subplots(figsize=(16,8))\n",
        "sn.heatmap(corrMatrix, annot=True)\n",
        "\n",
        "plt.show()"
      ],
      "execution_count": null,
      "outputs": [
        {
          "output_type": "display_data",
          "data": {
            "image/png": "[encoded data removed]",
            "text/plain": [
              "<Figure size 1152x576 with 2 Axes>"
            ]
          },
          "metadata": {
            "tags": [],
            "needs_background": "light"
          }
        }
      ]
    },
    {
      "cell_type": "code",
      "metadata": {
        "id": "XWZbbMq1Uq2K"
      },
      "source": [
        "Uber = merged_df[merged_df[\"cab_type\"]==\"Uber\"]\n",
        "Lyft = merged_df[merged_df[\"cab_type\"]==\"Lyft\"]"
      ],
      "execution_count": null,
      "outputs": []
    },
    {
      "cell_type": "code",
      "metadata": {
        "id": "__rXzTLxWTxd",
        "outputId": "828ec81c-a32d-4e1e-d4d1-eda1ea1db048",
        "colab": {
          "base_uri": "https://localhost:8080/",
          "height": 238
        }
      },
      "source": [
        "merged_df['destination'].value_counts()"
      ],
      "execution_count": null,
      "outputs": [
        {
          "output_type": "execute_result",
          "data": {
            "text/plain": [
              "Financial District         54192\n",
              "Back Bay                   53190\n",
              "Theatre District           53189\n",
              "Boston University          53171\n",
              "Haymarket Square           53171\n",
              "Fenway                     53166\n",
              "Northeastern University    53165\n",
              "North End                  53164\n",
              "South Station              53159\n",
              "West End                   52992\n",
              "Beacon Hill                52840\n",
              "North Station              52577\n",
              "Name: destination, dtype: int64"
            ]
          },
          "metadata": {
            "tags": []
          },
          "execution_count": 158
        }
      ]
    },
    {
      "cell_type": "code",
      "metadata": {
        "id": "xlFQ1a_tWd85"
      },
      "source": [
        "BU_uber = Uber[(Uber[\"destination\"]==\"Boston University\" ) & (BU_uber['distance'] >= 2.8) & (BU_uber['distance'] <= 3.0) ]\n",
        "BU_lyft = Lyft[(Lyft[\"destination\"]==\"Boston University\" ) &  (BU_lyft['distance'] >= 2.8) & (BU_lyft['distance'] <= 3.0)]\n"
      ],
      "execution_count": null,
      "outputs": []
    },
    {
      "cell_type": "code",
      "metadata": {
        "id": "mxhiABlzXBmt",
        "outputId": "125a1033-1b3f-46c8-f439-6f1f3a187b2f",
        "colab": {
          "base_uri": "https://localhost:8080/",
          "height": 34
        }
      },
      "source": [
        "len(BU_lyft), len(BU_uber)"
      ],
      "execution_count": null,
      "outputs": [
        {
          "output_type": "execute_result",
          "data": {
            "text/plain": [
              "(4362, 4710)"
            ]
          },
          "metadata": {
            "tags": []
          },
          "execution_count": 165
        }
      ]
    },
    {
      "cell_type": "code",
      "metadata": {
        "id": "OYttplS7nECC",
        "outputId": "3d38600b-c26e-45f2-b7a7-03e03597d7be",
        "colab": {
          "base_uri": "https://localhost:8080/",
          "height": 759
        }
      },
      "source": [
        "BU_uber"
      ],
      "execution_count": null,
      "outputs": [
        {
          "output_type": "execute_result",
          "data": {
            "text/html": [
              "<div>\n",
              "<style scoped>\n",
              "    .dataframe tbody tr th:only-of-type {\n",
              "        vertical-align: middle;\n",
              "    }\n",
              "\n",
              "    .dataframe tbody tr th {\n",
              "        vertical-align: top;\n",
              "    }\n",
              "\n",
              "    .dataframe thead th {\n",
              "        text-align: right;\n",
              "    }\n",
              "</style>\n",
              "<table border=\"1\" class=\"dataframe\">\n",
              "  <thead>\n",
              "    <tr style=\"text-align: right;\">\n",
              "      <th></th>\n",
              "      <th>distance</th>\n",
              "      <th>cab_type</th>\n",
              "      <th>time_stamp</th>\n",
              "      <th>destination</th>\n",
              "      <th>source</th>\n",
              "      <th>price</th>\n",
              "      <th>surge_multiplier</th>\n",
              "      <th>id</th>\n",
              "      <th>product_id</th>\n",
              "      <th>name</th>\n",
              "      <th>date_time</th>\n",
              "      <th>day</th>\n",
              "      <th>hour</th>\n",
              "      <th>date</th>\n",
              "    </tr>\n",
              "  </thead>\n",
              "  <tbody>\n",
              "    <tr>\n",
              "      <th>438</th>\n",
              "      <td>2.8</td>\n",
              "      <td>Uber</td>\n",
              "      <td>1545138603671</td>\n",
              "      <td>Boston University</td>\n",
              "      <td>West End</td>\n",
              "      <td>11.0</td>\n",
              "      <td>1.0</td>\n",
              "      <td>28aab9c5-d14e-47a9-b3ed-4ebdf31623e5</td>\n",
              "      <td>9a0e7b09-b92b-4c41-9779-2ad22b4d779d</td>\n",
              "      <td>WAV</td>\n",
              "      <td>2018-12-18 13:10:03.671000004</td>\n",
              "      <td>1</td>\n",
              "      <td>13</td>\n",
              "      <td>2018-12-18</td>\n",
              "    </tr>\n",
              "    <tr>\n",
              "      <th>439</th>\n",
              "      <td>2.8</td>\n",
              "      <td>Uber</td>\n",
              "      <td>1543366283445</td>\n",
              "      <td>Boston University</td>\n",
              "      <td>West End</td>\n",
              "      <td>34.0</td>\n",
              "      <td>1.0</td>\n",
              "      <td>6f289572-53c0-457f-9112-b88a47e11660</td>\n",
              "      <td>6d318bcc-22a3-4af6-bddd-b409bfce1546</td>\n",
              "      <td>Black SUV</td>\n",
              "      <td>2018-11-28 00:51:23.444999933</td>\n",
              "      <td>2</td>\n",
              "      <td>0</td>\n",
              "      <td>2018-11-28</td>\n",
              "    </tr>\n",
              "    <tr>\n",
              "      <th>440</th>\n",
              "      <td>2.8</td>\n",
              "      <td>Uber</td>\n",
              "      <td>1543805877985</td>\n",
              "      <td>Boston University</td>\n",
              "      <td>West End</td>\n",
              "      <td>11.0</td>\n",
              "      <td>1.0</td>\n",
              "      <td>7ce4e4bd-0983-4b67-976f-ec6eaf580ac3</td>\n",
              "      <td>997acbb5-e102-41e1-b155-9df7de0a73f2</td>\n",
              "      <td>UberPool</td>\n",
              "      <td>2018-12-03 02:57:57.984999895</td>\n",
              "      <td>0</td>\n",
              "      <td>2</td>\n",
              "      <td>2018-12-03</td>\n",
              "    </tr>\n",
              "    <tr>\n",
              "      <th>442</th>\n",
              "      <td>2.8</td>\n",
              "      <td>Uber</td>\n",
              "      <td>1543656182434</td>\n",
              "      <td>Boston University</td>\n",
              "      <td>West End</td>\n",
              "      <td>17.0</td>\n",
              "      <td>1.0</td>\n",
              "      <td>8cad2132-8b60-4799-82f9-daee668f2d8e</td>\n",
              "      <td>6f72dfc5-27f1-42e8-84db-ccc7a75f6969</td>\n",
              "      <td>UberXL</td>\n",
              "      <td>2018-12-01 09:23:02.434000015</td>\n",
              "      <td>5</td>\n",
              "      <td>9</td>\n",
              "      <td>2018-12-01</td>\n",
              "    </tr>\n",
              "    <tr>\n",
              "      <th>443</th>\n",
              "      <td>2.8</td>\n",
              "      <td>Uber</td>\n",
              "      <td>1545055212592</td>\n",
              "      <td>Boston University</td>\n",
              "      <td>West End</td>\n",
              "      <td>25.0</td>\n",
              "      <td>1.0</td>\n",
              "      <td>96498f61-7aa2-4dc2-8d7f-502960e26de4</td>\n",
              "      <td>6c84fd89-3f11-4782-9b50-97c468b19529</td>\n",
              "      <td>Black</td>\n",
              "      <td>2018-12-17 14:00:12.592000008</td>\n",
              "      <td>0</td>\n",
              "      <td>14</td>\n",
              "      <td>2018-12-17</td>\n",
              "    </tr>\n",
              "    <tr>\n",
              "      <th>...</th>\n",
              "      <td>...</td>\n",
              "      <td>...</td>\n",
              "      <td>...</td>\n",
              "      <td>...</td>\n",
              "      <td>...</td>\n",
              "      <td>...</td>\n",
              "      <td>...</td>\n",
              "      <td>...</td>\n",
              "      <td>...</td>\n",
              "      <td>...</td>\n",
              "      <td>...</td>\n",
              "      <td>...</td>\n",
              "      <td>...</td>\n",
              "      <td>...</td>\n",
              "    </tr>\n",
              "    <tr>\n",
              "      <th>691997</th>\n",
              "      <td>2.8</td>\n",
              "      <td>Uber</td>\n",
              "      <td>1543628884172</td>\n",
              "      <td>Boston University</td>\n",
              "      <td>West End</td>\n",
              "      <td>33.5</td>\n",
              "      <td>1.0</td>\n",
              "      <td>29753916-66b6-4335-baeb-e4f292408070</td>\n",
              "      <td>6d318bcc-22a3-4af6-bddd-b409bfce1546</td>\n",
              "      <td>Black SUV</td>\n",
              "      <td>2018-12-01 01:48:04.171999931</td>\n",
              "      <td>5</td>\n",
              "      <td>1</td>\n",
              "      <td>2018-12-01</td>\n",
              "    </tr>\n",
              "    <tr>\n",
              "      <th>691998</th>\n",
              "      <td>2.8</td>\n",
              "      <td>Uber</td>\n",
              "      <td>1543628884172</td>\n",
              "      <td>Boston University</td>\n",
              "      <td>West End</td>\n",
              "      <td>9.0</td>\n",
              "      <td>1.0</td>\n",
              "      <td>51da5aac-79bf-4f1b-99cd-3e43db611a48</td>\n",
              "      <td>997acbb5-e102-41e1-b155-9df7de0a73f2</td>\n",
              "      <td>UberPool</td>\n",
              "      <td>2018-12-01 01:48:04.171999931</td>\n",
              "      <td>5</td>\n",
              "      <td>1</td>\n",
              "      <td>2018-12-01</td>\n",
              "    </tr>\n",
              "    <tr>\n",
              "      <th>691999</th>\n",
              "      <td>2.8</td>\n",
              "      <td>Uber</td>\n",
              "      <td>1543344502686</td>\n",
              "      <td>Boston University</td>\n",
              "      <td>West End</td>\n",
              "      <td>10.5</td>\n",
              "      <td>1.0</td>\n",
              "      <td>89f3b0ee-b349-44c8-a1fa-6e0776301298</td>\n",
              "      <td>9a0e7b09-b92b-4c41-9779-2ad22b4d779d</td>\n",
              "      <td>WAV</td>\n",
              "      <td>2018-11-27 18:48:22.686000109</td>\n",
              "      <td>1</td>\n",
              "      <td>18</td>\n",
              "      <td>2018-11-27</td>\n",
              "    </tr>\n",
              "    <tr>\n",
              "      <th>692000</th>\n",
              "      <td>2.8</td>\n",
              "      <td>Uber</td>\n",
              "      <td>1543344502686</td>\n",
              "      <td>Boston University</td>\n",
              "      <td>West End</td>\n",
              "      <td>23.0</td>\n",
              "      <td>1.0</td>\n",
              "      <td>9bff8a86-9d97-4114-8db9-6125430af966</td>\n",
              "      <td>6c84fd89-3f11-4782-9b50-97c468b19529</td>\n",
              "      <td>Black</td>\n",
              "      <td>2018-11-27 18:48:22.686000109</td>\n",
              "      <td>1</td>\n",
              "      <td>18</td>\n",
              "      <td>2018-11-27</td>\n",
              "    </tr>\n",
              "    <tr>\n",
              "      <th>692001</th>\n",
              "      <td>2.8</td>\n",
              "      <td>Uber</td>\n",
              "      <td>1543344502686</td>\n",
              "      <td>Boston University</td>\n",
              "      <td>West End</td>\n",
              "      <td>18.0</td>\n",
              "      <td>1.0</td>\n",
              "      <td>af92ecc0-580a-416f-a4bb-d40f1c745b1e</td>\n",
              "      <td>6f72dfc5-27f1-42e8-84db-ccc7a75f6969</td>\n",
              "      <td>UberXL</td>\n",
              "      <td>2018-11-27 18:48:22.686000109</td>\n",
              "      <td>1</td>\n",
              "      <td>18</td>\n",
              "      <td>2018-11-27</td>\n",
              "    </tr>\n",
              "  </tbody>\n",
              "</table>\n",
              "<p>4710 rows × 14 columns</p>\n",
              "</div>"
            ],
            "text/plain": [
              "        distance cab_type     time_stamp  ... day hour        date\n",
              "438          2.8     Uber  1545138603671  ...   1   13  2018-12-18\n",
              "439          2.8     Uber  1543366283445  ...   2    0  2018-11-28\n",
              "440          2.8     Uber  1543805877985  ...   0    2  2018-12-03\n",
              "442          2.8     Uber  1543656182434  ...   5    9  2018-12-01\n",
              "443          2.8     Uber  1545055212592  ...   0   14  2018-12-17\n",
              "...          ...      ...            ...  ...  ..  ...         ...\n",
              "691997       2.8     Uber  1543628884172  ...   5    1  2018-12-01\n",
              "691998       2.8     Uber  1543628884172  ...   5    1  2018-12-01\n",
              "691999       2.8     Uber  1543344502686  ...   1   18  2018-11-27\n",
              "692000       2.8     Uber  1543344502686  ...   1   18  2018-11-27\n",
              "692001       2.8     Uber  1543344502686  ...   1   18  2018-11-27\n",
              "\n",
              "[4710 rows x 14 columns]"
            ]
          },
          "metadata": {
            "tags": []
          },
          "execution_count": 166
        }
      ]
    },
    {
      "cell_type": "code",
      "metadata": {
        "id": "g4EnU8VyXKe0"
      },
      "source": [
        "import datetime as dt\n",
        "BU_uber_day = BU_uber[BU_uber[\"date\"].values == dt.date(2018, 11, 27)]"
      ],
      "execution_count": null,
      "outputs": []
    },
    {
      "cell_type": "code",
      "metadata": {
        "id": "1D7Yw0SjX5Su",
        "outputId": "8269d4da-102b-42bf-d26b-420d0b3254aa",
        "colab": {
          "base_uri": "https://localhost:8080/",
          "height": 136
        }
      },
      "source": [
        "BU_uber_day[\"name\"].value_counts()"
      ],
      "execution_count": null,
      "outputs": [
        {
          "output_type": "execute_result",
          "data": {
            "text/plain": [
              "UberPool     83\n",
              "Black        78\n",
              "Black SUV    77\n",
              "UberX        77\n",
              "UberXL       74\n",
              "WAV          70\n",
              "Name: name, dtype: int64"
            ]
          },
          "metadata": {
            "tags": []
          },
          "execution_count": 168
        }
      ]
    },
    {
      "cell_type": "code",
      "metadata": {
        "id": "umi0pLgNZDgT",
        "outputId": "99d51b13-b2d0-4cb0-cab3-31272dc018f4",
        "colab": {
          "base_uri": "https://localhost:8080/",
          "height": 119
        }
      },
      "source": [
        "BU_uber_day[\"time\"] = BU_uber_day[\"date_time\"].dt.time"
      ],
      "execution_count": null,
      "outputs": [
        {
          "output_type": "stream",
          "text": [
            "/usr/local/lib/python3.6/dist-packages/ipykernel_launcher.py:1: SettingWithCopyWarning: \n",
            "A value is trying to be set on a copy of a slice from a DataFrame.\n",
            "Try using .loc[row_indexer,col_indexer] = value instead\n",
            "\n",
            "See the caveats in the documentation: https://pandas.pydata.org/pandas-docs/stable/user_guide/indexing.html#returning-a-view-versus-a-copy\n",
            "  \"\"\"Entry point for launching an IPython kernel.\n"
          ],
          "name": "stderr"
        }
      ]
    },
    {
      "cell_type": "code",
      "metadata": {
        "id": "4pwNjQw8c5ny"
      },
      "source": [
        "BU_uber_8to10 = BU_uber_day[(BU_uber_day[\"time\"] >= dt.time(12,0,0)) & (BU_uber_day[\"time\"] <= dt.time(14,0,0))]"
      ],
      "execution_count": null,
      "outputs": []
    },
    {
      "cell_type": "code",
      "metadata": {
        "id": "3S2bmX0wdEFX",
        "outputId": "6f70b412-fe44-4784-ee44-f961e9c99799",
        "colab": {
          "base_uri": "https://localhost:8080/",
          "height": 571
        }
      },
      "source": [
        "BU_uber_8 = BU_uber_day[(BU_uber_day[\"time\"] >= dt.time(12,0,0)) & (BU_uber_day[\"time\"] <= dt.time(12,30,0))]\n",
        "BU_uber_8.groupby([\"price\", \"name\"]).count()\n",
        "plt.hist(BU_uber_day['date_time'], bins = 48)"
      ],
      "execution_count": null,
      "outputs": [
        {
          "output_type": "execute_result",
          "data": {
            "text/plain": [
              "(array([ 8., 19., 12., 10.,  0., 11., 12., 13.,  7.,  1., 10.,  7., 15.,\n",
              "        12., 19.,  9.,  6.,  3.,  1., 15., 10.,  2.,  6.,  8., 17.,  5.,\n",
              "         7.,  6.,  9.,  9., 10.,  8., 11., 10.,  7., 16.,  3., 16., 16.,\n",
              "         9., 11.,  5., 15., 10., 14., 12., 11.,  6.]),\n",
              " array([737025.00016594, 737025.02069734, 737025.04122874, 737025.06176014,\n",
              "        737025.08229154, 737025.10282294, 737025.12335434, 737025.14388574,\n",
              "        737025.16441714, 737025.18494854, 737025.20547994, 737025.22601134,\n",
              "        737025.24654274, 737025.26707414, 737025.28760554, 737025.30813694,\n",
              "        737025.32866834, 737025.34919974, 737025.36973114, 737025.39026254,\n",
              "        737025.41079394, 737025.43132534, 737025.45185674, 737025.47238814,\n",
              "        737025.49291954, 737025.51345094, 737025.53398234, 737025.55451374,\n",
              "        737025.57504514, 737025.59557654, 737025.61610794, 737025.63663934,\n",
              "        737025.65717074, 737025.67770214, 737025.69823355, 737025.71876495,\n",
              "        737025.73929635, 737025.75982775, 737025.78035915, 737025.80089055,\n",
              "        737025.82142195, 737025.84195335, 737025.86248475, 737025.88301615,\n",
              "        737025.90354755, 737025.92407895, 737025.94461035, 737025.96514175,\n",
              "        737025.98567315]),\n",
              " <a list of 48 Patch objects>)"
            ]
          },
          "metadata": {
            "tags": []
          },
          "execution_count": 180
        },
        {
          "output_type": "display_data",
          "data": {
            "image/png": "[encoded data removed]",
            "text/plain": [
              "<Figure size 432x288 with 1 Axes>"
            ]
          },
          "metadata": {
            "tags": [],
            "needs_background": "light"
          }
        }
      ]
    },
    {
      "cell_type": "code",
      "metadata": {
        "id": "Fnb14sgWdlkj",
        "outputId": "01a9d36c-f431-4935-bbad-db8d8785e079",
        "colab": {
          "base_uri": "https://localhost:8080/",
          "height": 391
        }
      },
      "source": [
        "Lyft[\"date_time\"][Lyft['surge_multiplier'] == 2.5]"
      ],
      "execution_count": null,
      "outputs": [
        {
          "output_type": "execute_result",
          "data": {
            "text/plain": [
              "71555    2018-11-27 22:12:23.099999905\n",
              "71555    2018-11-27 22:12:23.099999905\n",
              "71556    2018-12-16 23:40:18.739000082\n",
              "160088   2018-11-27 16:54:22.045000076\n",
              "160088   2018-11-27 16:54:22.045000076\n",
              "160091   2018-11-27 16:54:22.045000076\n",
              "160091   2018-11-27 16:54:22.045000076\n",
              "289791   2018-11-27 09:03:21.921999931\n",
              "289791   2018-11-27 09:03:21.921999931\n",
              "289792   2018-12-17 03:05:03.671999931\n",
              "499099   2018-11-28 12:32:08.522000074\n",
              "499099   2018-11-28 12:32:08.522000074\n",
              "499099   2018-11-28 12:32:08.522000074\n",
              "499100   2018-11-28 12:32:08.522000074\n",
              "499100   2018-11-28 12:32:08.522000074\n",
              "499100   2018-11-28 12:32:08.522000074\n",
              "537448   2018-11-27 04:42:21.898000002\n",
              "537448   2018-11-27 04:42:21.898000002\n",
              "537450   2018-12-14 03:40:07.486000061\n",
              "649747   2018-12-01 13:57:58.832999945\n",
              "649750   2018-12-01 13:57:58.832999945\n",
              "Name: date_time, dtype: datetime64[ns]"
            ]
          },
          "metadata": {
            "tags": []
          },
          "execution_count": 140
        }
      ]
    },
    {
      "cell_type": "code",
      "metadata": {
        "id": "1TlIDoM5hrZL",
        "outputId": "5725b2f2-9b78-4768-a456-f71c88004c32",
        "colab": {
          "base_uri": "https://localhost:8080/",
          "height": 949
        }
      },
      "source": [],
      "execution_count": null,
      "outputs": [
        {
          "output_type": "execute_result",
          "data": {
            "text/html": [
              "<div>\n",
              "<style scoped>\n",
              "    .dataframe tbody tr th:only-of-type {\n",
              "        vertical-align: middle;\n",
              "    }\n",
              "\n",
              "    .dataframe tbody tr th {\n",
              "        vertical-align: top;\n",
              "    }\n",
              "\n",
              "    .dataframe thead th {\n",
              "        text-align: right;\n",
              "    }\n",
              "</style>\n",
              "<table border=\"1\" class=\"dataframe\">\n",
              "  <thead>\n",
              "    <tr style=\"text-align: right;\">\n",
              "      <th></th>\n",
              "      <th>distance</th>\n",
              "      <th>cab_type</th>\n",
              "      <th>time_stamp</th>\n",
              "      <th>destination</th>\n",
              "      <th>source</th>\n",
              "      <th>price</th>\n",
              "      <th>surge_multiplier</th>\n",
              "      <th>id</th>\n",
              "      <th>product_id</th>\n",
              "      <th>name</th>\n",
              "      <th>date_time</th>\n",
              "      <th>merge_date</th>\n",
              "      <th>temp</th>\n",
              "      <th>location</th>\n",
              "      <th>clouds</th>\n",
              "      <th>pressure</th>\n",
              "      <th>rain</th>\n",
              "      <th>time_stamp_w</th>\n",
              "      <th>humidity</th>\n",
              "      <th>wind</th>\n",
              "      <th>date_time_w</th>\n",
              "      <th>merge_date_w</th>\n",
              "      <th>day</th>\n",
              "      <th>hour</th>\n",
              "      <th>date</th>\n",
              "    </tr>\n",
              "  </thead>\n",
              "  <tbody>\n",
              "    <tr>\n",
              "      <th>12</th>\n",
              "      <td>1.11</td>\n",
              "      <td>Uber</td>\n",
              "      <td>1543615981179</td>\n",
              "      <td>West End</td>\n",
              "      <td>North End</td>\n",
              "      <td>12.0</td>\n",
              "      <td>1.0</td>\n",
              "      <td>009e9c53-074d-43cf-aef2-0fbc7a47ed3d</td>\n",
              "      <td>6f72dfc5-27f1-42e8-84db-ccc7a75f6969</td>\n",
              "      <td>UberXL</td>\n",
              "      <td>2018-11-30 22:13:01.178999901</td>\n",
              "      <td>North End - 2018-11-30 - 22</td>\n",
              "      <td>38.65</td>\n",
              "      <td>North End</td>\n",
              "      <td>0.96</td>\n",
              "      <td>1017.23</td>\n",
              "      <td>0.0000</td>\n",
              "      <td>1.543618e+09</td>\n",
              "      <td>0.65</td>\n",
              "      <td>3.13</td>\n",
              "      <td>2018-11-30 22:52:54</td>\n",
              "      <td>North End - 2018-11-30 - 22</td>\n",
              "      <td>4</td>\n",
              "      <td>22</td>\n",
              "      <td>2018-11-30</td>\n",
              "    </tr>\n",
              "    <tr>\n",
              "      <th>13</th>\n",
              "      <td>1.11</td>\n",
              "      <td>Uber</td>\n",
              "      <td>1544698211014</td>\n",
              "      <td>West End</td>\n",
              "      <td>North End</td>\n",
              "      <td>16.0</td>\n",
              "      <td>1.0</td>\n",
              "      <td>23f145da-f0c1-4d1f-a184-496bc003a7db</td>\n",
              "      <td>6c84fd89-3f11-4782-9b50-97c468b19529</td>\n",
              "      <td>Black</td>\n",
              "      <td>2018-12-13 10:50:11.013999939</td>\n",
              "      <td>North End - 2018-12-13 - 10</td>\n",
              "      <td>20.12</td>\n",
              "      <td>North End</td>\n",
              "      <td>0.43</td>\n",
              "      <td>1031.07</td>\n",
              "      <td>0.0000</td>\n",
              "      <td>1.544698e+09</td>\n",
              "      <td>0.64</td>\n",
              "      <td>3.88</td>\n",
              "      <td>2018-12-13 10:45:01</td>\n",
              "      <td>North End - 2018-12-13 - 10</td>\n",
              "      <td>3</td>\n",
              "      <td>10</td>\n",
              "      <td>2018-12-13</td>\n",
              "    </tr>\n",
              "    <tr>\n",
              "      <th>14</th>\n",
              "      <td>1.11</td>\n",
              "      <td>Uber</td>\n",
              "      <td>1544728503935</td>\n",
              "      <td>West End</td>\n",
              "      <td>North End</td>\n",
              "      <td>7.5</td>\n",
              "      <td>1.0</td>\n",
              "      <td>357559cb-8c58-4278-a41a-e33b2e0997a3</td>\n",
              "      <td>55c66225-fbe7-4fd5-9072-eab1ece5e23e</td>\n",
              "      <td>UberX</td>\n",
              "      <td>2018-12-13 19:15:03.934999943</td>\n",
              "      <td>North End - 2018-12-13 - 19</td>\n",
              "      <td>32.75</td>\n",
              "      <td>North End</td>\n",
              "      <td>0.51</td>\n",
              "      <td>1033.75</td>\n",
              "      <td>0.0000</td>\n",
              "      <td>1.544730e+09</td>\n",
              "      <td>0.57</td>\n",
              "      <td>1.90</td>\n",
              "      <td>2018-12-13 19:45:01</td>\n",
              "      <td>North End - 2018-12-13 - 19</td>\n",
              "      <td>3</td>\n",
              "      <td>19</td>\n",
              "      <td>2018-12-13</td>\n",
              "    </tr>\n",
              "    <tr>\n",
              "      <th>15</th>\n",
              "      <td>1.11</td>\n",
              "      <td>Uber</td>\n",
              "      <td>1545004511430</td>\n",
              "      <td>West End</td>\n",
              "      <td>North End</td>\n",
              "      <td>7.5</td>\n",
              "      <td>1.0</td>\n",
              "      <td>50ef1165-9d23-416c-a65c-18906207b295</td>\n",
              "      <td>9a0e7b09-b92b-4c41-9779-2ad22b4d779d</td>\n",
              "      <td>WAV</td>\n",
              "      <td>2018-12-16 23:55:11.430000067</td>\n",
              "      <td>North End - 2018-12-16 - 23</td>\n",
              "      <td>42.36</td>\n",
              "      <td>North End</td>\n",
              "      <td>1.00</td>\n",
              "      <td>1012.15</td>\n",
              "      <td>0.2088</td>\n",
              "      <td>1.545004e+09</td>\n",
              "      <td>0.77</td>\n",
              "      <td>11.46</td>\n",
              "      <td>2018-12-16 23:45:01</td>\n",
              "      <td>North End - 2018-12-16 - 23</td>\n",
              "      <td>6</td>\n",
              "      <td>23</td>\n",
              "      <td>2018-12-16</td>\n",
              "    </tr>\n",
              "    <tr>\n",
              "      <th>16</th>\n",
              "      <td>1.11</td>\n",
              "      <td>Uber</td>\n",
              "      <td>1544748007961</td>\n",
              "      <td>West End</td>\n",
              "      <td>North End</td>\n",
              "      <td>26.0</td>\n",
              "      <td>1.0</td>\n",
              "      <td>91c4861c-1780-42b0-bca1-bbd64a422cc3</td>\n",
              "      <td>6d318bcc-22a3-4af6-bddd-b409bfce1546</td>\n",
              "      <td>Black SUV</td>\n",
              "      <td>2018-12-14 00:40:07.960999966</td>\n",
              "      <td>North End - 2018-12-14 - 0</td>\n",
              "      <td>30.07</td>\n",
              "      <td>North End</td>\n",
              "      <td>0.69</td>\n",
              "      <td>1034.97</td>\n",
              "      <td>0.0000</td>\n",
              "      <td>1.544748e+09</td>\n",
              "      <td>0.68</td>\n",
              "      <td>1.98</td>\n",
              "      <td>2018-12-14 00:45:01</td>\n",
              "      <td>North End - 2018-12-14 - 0</td>\n",
              "      <td>4</td>\n",
              "      <td>0</td>\n",
              "      <td>2018-12-14</td>\n",
              "    </tr>\n",
              "    <tr>\n",
              "      <th>...</th>\n",
              "      <td>...</td>\n",
              "      <td>...</td>\n",
              "      <td>...</td>\n",
              "      <td>...</td>\n",
              "      <td>...</td>\n",
              "      <td>...</td>\n",
              "      <td>...</td>\n",
              "      <td>...</td>\n",
              "      <td>...</td>\n",
              "      <td>...</td>\n",
              "      <td>...</td>\n",
              "      <td>...</td>\n",
              "      <td>...</td>\n",
              "      <td>...</td>\n",
              "      <td>...</td>\n",
              "      <td>...</td>\n",
              "      <td>...</td>\n",
              "      <td>...</td>\n",
              "      <td>...</td>\n",
              "      <td>...</td>\n",
              "      <td>...</td>\n",
              "      <td>...</td>\n",
              "      <td>...</td>\n",
              "      <td>...</td>\n",
              "      <td>...</td>\n",
              "    </tr>\n",
              "    <tr>\n",
              "      <th>693065</th>\n",
              "      <td>1.00</td>\n",
              "      <td>Uber</td>\n",
              "      <td>1543708385534</td>\n",
              "      <td>North End</td>\n",
              "      <td>West End</td>\n",
              "      <td>9.5</td>\n",
              "      <td>1.0</td>\n",
              "      <td>353e6566-b272-479e-a9c6-98bd6cb23f25</td>\n",
              "      <td>9a0e7b09-b92b-4c41-9779-2ad22b4d779d</td>\n",
              "      <td>WAV</td>\n",
              "      <td>2018-12-01 23:53:05.533999919</td>\n",
              "      <td>West End - 2018-12-01 - 23</td>\n",
              "      <td>36.69</td>\n",
              "      <td>West End</td>\n",
              "      <td>0.41</td>\n",
              "      <td>1023.64</td>\n",
              "      <td>0.0000</td>\n",
              "      <td>1.543708e+09</td>\n",
              "      <td>0.76</td>\n",
              "      <td>2.51</td>\n",
              "      <td>2018-12-01 23:52:55</td>\n",
              "      <td>West End - 2018-12-01 - 23</td>\n",
              "      <td>5</td>\n",
              "      <td>23</td>\n",
              "      <td>2018-12-01</td>\n",
              "    </tr>\n",
              "    <tr>\n",
              "      <th>693066</th>\n",
              "      <td>1.00</td>\n",
              "      <td>Uber</td>\n",
              "      <td>1543708385534</td>\n",
              "      <td>North End</td>\n",
              "      <td>West End</td>\n",
              "      <td>13.0</td>\n",
              "      <td>1.0</td>\n",
              "      <td>616d3611-1820-450a-9845-a9ff304a4842</td>\n",
              "      <td>6f72dfc5-27f1-42e8-84db-ccc7a75f6969</td>\n",
              "      <td>UberXL</td>\n",
              "      <td>2018-12-01 23:53:05.533999919</td>\n",
              "      <td>West End - 2018-12-01 - 23</td>\n",
              "      <td>36.69</td>\n",
              "      <td>West End</td>\n",
              "      <td>0.41</td>\n",
              "      <td>1023.64</td>\n",
              "      <td>0.0000</td>\n",
              "      <td>1.543708e+09</td>\n",
              "      <td>0.76</td>\n",
              "      <td>2.51</td>\n",
              "      <td>2018-12-01 23:52:55</td>\n",
              "      <td>West End - 2018-12-01 - 23</td>\n",
              "      <td>5</td>\n",
              "      <td>23</td>\n",
              "      <td>2018-12-01</td>\n",
              "    </tr>\n",
              "    <tr>\n",
              "      <th>693067</th>\n",
              "      <td>1.00</td>\n",
              "      <td>Uber</td>\n",
              "      <td>1543708385534</td>\n",
              "      <td>North End</td>\n",
              "      <td>West End</td>\n",
              "      <td>9.5</td>\n",
              "      <td>1.0</td>\n",
              "      <td>633a3fc3-1f86-4b9e-9d48-2b7132112341</td>\n",
              "      <td>55c66225-fbe7-4fd5-9072-eab1ece5e23e</td>\n",
              "      <td>UberX</td>\n",
              "      <td>2018-12-01 23:53:05.533999919</td>\n",
              "      <td>West End - 2018-12-01 - 23</td>\n",
              "      <td>36.69</td>\n",
              "      <td>West End</td>\n",
              "      <td>0.41</td>\n",
              "      <td>1023.64</td>\n",
              "      <td>0.0000</td>\n",
              "      <td>1.543708e+09</td>\n",
              "      <td>0.76</td>\n",
              "      <td>2.51</td>\n",
              "      <td>2018-12-01 23:52:55</td>\n",
              "      <td>West End - 2018-12-01 - 23</td>\n",
              "      <td>5</td>\n",
              "      <td>23</td>\n",
              "      <td>2018-12-01</td>\n",
              "    </tr>\n",
              "    <tr>\n",
              "      <th>693069</th>\n",
              "      <td>1.00</td>\n",
              "      <td>Uber</td>\n",
              "      <td>1543708385534</td>\n",
              "      <td>North End</td>\n",
              "      <td>West End</td>\n",
              "      <td>27.0</td>\n",
              "      <td>1.0</td>\n",
              "      <td>727e5f07-a96b-4ad1-a2c7-9abc3ad55b4e</td>\n",
              "      <td>6d318bcc-22a3-4af6-bddd-b409bfce1546</td>\n",
              "      <td>Black SUV</td>\n",
              "      <td>2018-12-01 23:53:05.533999919</td>\n",
              "      <td>West End - 2018-12-01 - 23</td>\n",
              "      <td>36.69</td>\n",
              "      <td>West End</td>\n",
              "      <td>0.41</td>\n",
              "      <td>1023.64</td>\n",
              "      <td>0.0000</td>\n",
              "      <td>1.543708e+09</td>\n",
              "      <td>0.76</td>\n",
              "      <td>2.51</td>\n",
              "      <td>2018-12-01 23:52:55</td>\n",
              "      <td>West End - 2018-12-01 - 23</td>\n",
              "      <td>5</td>\n",
              "      <td>23</td>\n",
              "      <td>2018-12-01</td>\n",
              "    </tr>\n",
              "    <tr>\n",
              "      <th>693070</th>\n",
              "      <td>1.00</td>\n",
              "      <td>Uber</td>\n",
              "      <td>1543708385534</td>\n",
              "      <td>North End</td>\n",
              "      <td>West End</td>\n",
              "      <td>10.0</td>\n",
              "      <td>1.0</td>\n",
              "      <td>e7fdc087-fe86-40a5-a3c3-3b2a8badcbda</td>\n",
              "      <td>997acbb5-e102-41e1-b155-9df7de0a73f2</td>\n",
              "      <td>UberPool</td>\n",
              "      <td>2018-12-01 23:53:05.533999919</td>\n",
              "      <td>West End - 2018-12-01 - 23</td>\n",
              "      <td>36.69</td>\n",
              "      <td>West End</td>\n",
              "      <td>0.41</td>\n",
              "      <td>1023.64</td>\n",
              "      <td>0.0000</td>\n",
              "      <td>1.543708e+09</td>\n",
              "      <td>0.76</td>\n",
              "      <td>2.51</td>\n",
              "      <td>2018-12-01 23:52:55</td>\n",
              "      <td>West End - 2018-12-01 - 23</td>\n",
              "      <td>5</td>\n",
              "      <td>23</td>\n",
              "      <td>2018-12-01</td>\n",
              "    </tr>\n",
              "  </tbody>\n",
              "</table>\n",
              "<p>603878 rows × 25 columns</p>\n",
              "</div>"
            ],
            "text/plain": [
              "        distance cab_type     time_stamp  ... day hour        date\n",
              "12          1.11     Uber  1543615981179  ...   4   22  2018-11-30\n",
              "13          1.11     Uber  1544698211014  ...   3   10  2018-12-13\n",
              "14          1.11     Uber  1544728503935  ...   3   19  2018-12-13\n",
              "15          1.11     Uber  1545004511430  ...   6   23  2018-12-16\n",
              "16          1.11     Uber  1544748007961  ...   4    0  2018-12-14\n",
              "...          ...      ...            ...  ...  ..  ...         ...\n",
              "693065      1.00     Uber  1543708385534  ...   5   23  2018-12-01\n",
              "693066      1.00     Uber  1543708385534  ...   5   23  2018-12-01\n",
              "693067      1.00     Uber  1543708385534  ...   5   23  2018-12-01\n",
              "693069      1.00     Uber  1543708385534  ...   5   23  2018-12-01\n",
              "693070      1.00     Uber  1543708385534  ...   5   23  2018-12-01\n",
              "\n",
              "[603878 rows x 25 columns]"
            ]
          },
          "metadata": {
            "tags": []
          },
          "execution_count": 139
        }
      ]
    },
    {
      "cell_type": "code",
      "metadata": {
        "id": "nE6hPHiMh_UX",
        "outputId": "bf1206a9-fe22-44ce-a467-92c5fe6225ac",
        "colab": {
          "base_uri": "https://localhost:8080/",
          "height": 69
        }
      },
      "source": [
        "BU_uber_8"
      ],
      "execution_count": null,
      "outputs": [
        {
          "output_type": "execute_result",
          "data": {
            "text/html": [
              "<div>\n",
              "<style scoped>\n",
              "    .dataframe tbody tr th:only-of-type {\n",
              "        vertical-align: middle;\n",
              "    }\n",
              "\n",
              "    .dataframe tbody tr th {\n",
              "        vertical-align: top;\n",
              "    }\n",
              "\n",
              "    .dataframe thead th {\n",
              "        text-align: right;\n",
              "    }\n",
              "</style>\n",
              "<table border=\"1\" class=\"dataframe\">\n",
              "  <thead>\n",
              "    <tr style=\"text-align: right;\">\n",
              "      <th></th>\n",
              "      <th>distance</th>\n",
              "      <th>cab_type</th>\n",
              "      <th>time_stamp</th>\n",
              "      <th>destination</th>\n",
              "      <th>source</th>\n",
              "      <th>price</th>\n",
              "      <th>surge_multiplier</th>\n",
              "      <th>id</th>\n",
              "      <th>product_id</th>\n",
              "      <th>name</th>\n",
              "      <th>date_time</th>\n",
              "      <th>merge_date</th>\n",
              "      <th>temp</th>\n",
              "      <th>location</th>\n",
              "      <th>clouds</th>\n",
              "      <th>pressure</th>\n",
              "      <th>rain</th>\n",
              "      <th>time_stamp_w</th>\n",
              "      <th>humidity</th>\n",
              "      <th>wind</th>\n",
              "      <th>date_time_w</th>\n",
              "      <th>merge_date_w</th>\n",
              "      <th>day</th>\n",
              "      <th>hour</th>\n",
              "      <th>date</th>\n",
              "      <th>time</th>\n",
              "    </tr>\n",
              "  </thead>\n",
              "  <tbody>\n",
              "  </tbody>\n",
              "</table>\n",
              "</div>"
            ],
            "text/plain": [
              "Empty DataFrame\n",
              "Columns: [distance, cab_type, time_stamp, destination, source, price, surge_multiplier, id, product_id, name, date_time, merge_date, temp, location, clouds, pressure, rain, time_stamp_w, humidity, wind, date_time_w, merge_date_w, day, hour, date, time]\n",
              "Index: []"
            ]
          },
          "metadata": {
            "tags": []
          },
          "execution_count": 142
        }
      ]
    },
    {
      "cell_type": "code",
      "metadata": {
        "id": "lfklNtHDlLDh"
      },
      "source": [],
      "execution_count": null,
      "outputs": []
    }
  ]
}